{
 "cells": [
  {
   "cell_type": "markdown",
   "metadata": {},
   "source": [
    "# Загрузка Pandas и очистка данных"
   ]
  },
  {
   "cell_type": "code",
   "execution_count": 2,
   "metadata": {},
   "outputs": [
    {
     "data": {
      "text/html": [
       "        <script type=\"text/javascript\">\n",
       "        window.PlotlyConfig = {MathJaxConfig: 'local'};\n",
       "        if (window.MathJax) {MathJax.Hub.Config({SVG: {font: \"STIX-Web\"}});}\n",
       "        if (typeof require !== 'undefined') {\n",
       "        require.undef(\"plotly\");\n",
       "        requirejs.config({\n",
       "            paths: {\n",
       "                'plotly': ['https://cdn.plot.ly/plotly-latest.min']\n",
       "            }\n",
       "        });\n",
       "        require(['plotly'], function(Plotly) {\n",
       "            window._Plotly = Plotly;\n",
       "        });\n",
       "        }\n",
       "        </script>\n",
       "        "
      ]
     },
     "metadata": {},
     "output_type": "display_data"
    },
    {
     "data": {
      "text/html": [
       "        <script type=\"text/javascript\">\n",
       "        window.PlotlyConfig = {MathJaxConfig: 'local'};\n",
       "        if (window.MathJax) {MathJax.Hub.Config({SVG: {font: \"STIX-Web\"}});}\n",
       "        if (typeof require !== 'undefined') {\n",
       "        require.undef(\"plotly\");\n",
       "        requirejs.config({\n",
       "            paths: {\n",
       "                'plotly': ['https://cdn.plot.ly/plotly-latest.min']\n",
       "            }\n",
       "        });\n",
       "        require(['plotly'], function(Plotly) {\n",
       "            window._Plotly = Plotly;\n",
       "        });\n",
       "        }\n",
       "        </script>\n",
       "        "
      ]
     },
     "metadata": {},
     "output_type": "display_data"
    }
   ],
   "source": [
    "from plotly.offline import init_notebook_mode, plot, iplot\n",
    "import seaborn as sns\n",
    "import warnings\n",
    "import plotly.offline as pyo\n",
    "import cufflinks as cf\n",
    "import plotly.graph_objects as go\n",
    "import plotly.express as px\n",
    "import plotly\n",
    "from matplotlib import style\n",
    "import matplotlib.pyplot as plt\n",
    "import pandas as pd\n",
    "\n",
    "import numpy as np\n",
    "\n",
    "from sklearn.model_selection import train_test_split\n",
    "from sklearn.ensemble import RandomForestRegressor\n",
    "from sklearn import metrics\n",
    "from sklearn.preprocessing import StandardScaler\n",
    "from sklearn.preprocessing import LabelEncoder\n",
    "from sklearn.preprocessing import MultiLabelBinarizer\n",
    "from sklearn.feature_extraction.text import CountVectorizer\n",
    "\n",
    "import re\n",
    "\n",
    "import datetime\n",
    "\n",
    "import os\n",
    "for dirname, _, filenames in os.walk('/kaggle/input'):\n",
    "    for filename in filenames:\n",
    "        print(os.path.join(dirname, filename))\n",
    "\n",
    "style.use('ggplot')\n",
    "%matplotlib inline\n",
    "\n",
    "\n",
    "pyo.init_notebook_mode(connected=True)\n",
    "cf.go_offline()\n",
    "\n",
    "warnings.filterwarnings('ignore')\n",
    "warnings.simplefilter('ignore')"
   ]
  },
  {
   "cell_type": "code",
   "execution_count": 3,
   "metadata": {},
   "outputs": [],
   "source": [
    "from collections import Counter"
   ]
  },
  {
   "cell_type": "code",
   "execution_count": 119,
   "metadata": {},
   "outputs": [],
   "source": [
    "RANDOM_SEED = 25"
   ]
  },
  {
   "cell_type": "code",
   "execution_count": 120,
   "metadata": {},
   "outputs": [],
   "source": [
    "# зафиксируем версию пакетов, чтобы эксперименты были воспроизводимы:\n",
    "!pip freeze > requirements.txt"
   ]
  },
  {
   "cell_type": "code",
   "execution_count": 61,
   "metadata": {},
   "outputs": [
    {
     "name": "stdout",
     "output_type": "stream",
     "text": [
      "<class 'pandas.core.frame.DataFrame'>\n",
      "RangeIndex: 50000 entries, 0 to 49999\n",
      "Data columns (total 11 columns):\n",
      " #   Column             Non-Null Count  Dtype  \n",
      "---  ------             --------------  -----  \n",
      " 0   Restaurant_id      50000 non-null  object \n",
      " 1   City               50000 non-null  object \n",
      " 2   Cuisine Style      38410 non-null  object \n",
      " 3   Ranking            50000 non-null  float64\n",
      " 4   Price Range        32639 non-null  object \n",
      " 5   Number of Reviews  46800 non-null  float64\n",
      " 6   Reviews            49998 non-null  object \n",
      " 7   URL_TA             50000 non-null  object \n",
      " 8   ID_TA              50000 non-null  object \n",
      " 9   sample             50000 non-null  int64  \n",
      " 10  Rating             50000 non-null  float64\n",
      "dtypes: float64(3), int64(1), object(7)\n",
      "memory usage: 4.2+ MB\n"
     ]
    }
   ],
   "source": [
    "df_train = pd.read_csv('main_task.csv')\n",
    "df_test = pd.read_csv('kaggle_task.csv')\n",
    "df_train['sample'] = 1  # помечаем где у нас трейн\n",
    "df_test['sample'] = 0  # помечаем где у нас тест\n",
    "# в тесте у нас нет значения Rating, мы его должны предсказать, по этому пока просто заполняем нулями\n",
    "df_test['Rating'] = 0\n",
    "sample_submission = pd.read_csv('sample_submission.csv')\n",
    "data = df_test.append(df_train, sort=False).reset_index(\n",
    "    drop=True)  # объединяем\n",
    "data.info()"
   ]
  },
  {
   "cell_type": "code",
   "execution_count": 62,
   "metadata": {},
   "outputs": [],
   "source": [
    "# Напишем функцию, которая выведет всю статистическую инфу по переменной и строит графики\n",
    "def analyse_numeric(datafr, column):\n",
    "    '''Визуализирует распределение числовой переменной.\n",
    "       Принимает параметрами DataFrame и строковое название столбца\n",
    "       Печатает различные статистические показатели и строит гистограмму.'''\n",
    "    count = datafr[column].count()\n",
    "    mean = datafr[column].mean()\n",
    "    std = datafr[column].std()\n",
    "    median = datafr[column].median()\n",
    "    perc25 = datafr[column].quantile(0.25)\n",
    "    perc75 = datafr[column].quantile(0.75)\n",
    "    IQR = perc75 - perc25\n",
    "    range_min = datafr[column].min()\n",
    "    range_max = datafr[column].max()\n",
    "    margin = (range_max - range_min)/10\n",
    "    range_start = range_min - margin\n",
    "    range_stop = range_max + margin\n",
    "    range_ = (range_start, range_stop)\n",
    "    outliers = datafr[column].loc[(\n",
    "        datafr[column] < perc25 - 1.5*IQR) | (datafr[column] > perc75 + 1.5*IQR)]\n",
    "\n",
    "    print('Количество: {}, Среднее: {:.3f}, Стандартное отклонение: {:.3f}.'.format(\n",
    "        count, mean, std))\n",
    "    print('Минимум: {}, 25-й перцентиль: {}, Медиана: {}, 75-й перцентиль: {}, Максимум: {}, IQR: {}.'\n",
    "          .format(range_min, perc25, median, perc75, range_max, IQR))\n",
    "    print('Количество пропусков в столбце: ', pd.isnull(datafr[column]).sum())\n",
    "    print('Границы выбросов: [{f}, {l}].'.format(\n",
    "        f=perc25 - 1.5*IQR, l=perc75 + 1.5*IQR), 'Количество выбросов: ', len(outliers))\n",
    "\n",
    "    datafr[column].loc[datafr[column].between(perc25 - 1.5*IQR, perc75 + 1.5*IQR)] \\\n",
    "                  .hist(bins=30, range=range_, label='В границах выбросов')\n",
    "    outliers.hist(bins=30, range=range_, label='Выбросы')\n",
    "\n",
    "    plt.legend()"
   ]
  },
  {
   "cell_type": "code",
   "execution_count": 63,
   "metadata": {},
   "outputs": [
    {
     "data": {
      "text/plain": [
       "Restaurant_id        13094\n",
       "City                    31\n",
       "Cuisine Style        10732\n",
       "Ranking              12975\n",
       "Price Range              4\n",
       "Number of Reviews     1574\n",
       "Reviews              41858\n",
       "URL_TA               49963\n",
       "ID_TA                49963\n",
       "sample                   2\n",
       "Rating                  10\n",
       "dtype: int64"
      ]
     },
     "execution_count": 63,
     "metadata": {},
     "output_type": "execute_result"
    }
   ],
   "source": [
    "data.nunique(dropna=False)"
   ]
  },
  {
   "cell_type": "code",
   "execution_count": 64,
   "metadata": {},
   "outputs": [
    {
     "data": {
      "text/plain": [
       "13094"
      ]
     },
     "execution_count": 64,
     "metadata": {},
     "output_type": "execute_result"
    }
   ],
   "source": [
    "data.Restaurant_id.nunique()"
   ]
  },
  {
   "cell_type": "code",
   "execution_count": 65,
   "metadata": {},
   "outputs": [],
   "source": [
    "# в переменной 9283 (23.2%) пропущенных значений\n",
    "# сохраним эту информацию\n",
    "data['NAN_Cuisine Style'] = pd.isna(data['Cuisine Style']).astype('float64')\n",
    "\n",
    "# заполним пропуски значением 'Other'\n",
    "data['Cuisine Style'] = data['Cuisine Style'].fillna(\"['Other']\")\n",
    "\n",
    "# закодируем значения в переменной до их преобразования\n",
    "le = LabelEncoder()\n",
    "le.fit(data['Cuisine Style'])\n",
    "data['code_Cuisine Style'] = le.transform(data['Cuisine Style'])"
   ]
  },
  {
   "cell_type": "code",
   "execution_count": 66,
   "metadata": {},
   "outputs": [],
   "source": [
    "data['Cuisine Style'] = data['Cuisine Style'].str.findall(r\"'(\\b.*?\\b)'\")\n",
    "\n",
    "temp_list = data['Cuisine Style'].tolist()\n",
    "\n",
    "\n",
    "def list_unrar(list_of_lists):\n",
    "    result = []\n",
    "    for lst in list_of_lists:\n",
    "        result.extend(lst)\n",
    "    return result\n",
    "\n",
    "\n",
    "temp_counter = Counter(list_unrar(temp_list))"
   ]
  },
  {
   "cell_type": "code",
   "execution_count": 67,
   "metadata": {},
   "outputs": [],
   "source": [
    "# сформируем список достаточно уникальных кухонь и сформируем на его основе новый признак\n",
    "list_of_unique_Cuisine = [x[0] for x in temp_counter.most_common()[-16:]]\n",
    "data['unique_Cuisine_Style'] = data['Cuisine Style'].apply(lambda x: 1 if len(\n",
    "    set(x) & set(list_of_unique_Cuisine)) > 0 else 0).astype('float64')"
   ]
  },
  {
   "cell_type": "code",
   "execution_count": 68,
   "metadata": {},
   "outputs": [],
   "source": [
    "for cuisine in temp_counter:\n",
    "    data[cuisine] = data['Cuisine Style'].apply(\n",
    "        lambda x: 1 if cuisine in x else 0).astype('float64')\n",
    "\n",
    "# генерируем новый признак кол-во кухонь в ресторане\n",
    "data['count_Cuisine_Style'] = data['Cuisine Style'].apply(\n",
    "    lambda x: len(x)).astype('float64')"
   ]
  },
  {
   "cell_type": "code",
   "execution_count": 69,
   "metadata": {},
   "outputs": [
    {
     "data": {
      "text/plain": [
       "2.62532"
      ]
     },
     "execution_count": 69,
     "metadata": {},
     "output_type": "execute_result"
    }
   ],
   "source": [
    "data['count_Cuisine_Style'].mean()"
   ]
  },
  {
   "cell_type": "code",
   "execution_count": 70,
   "metadata": {},
   "outputs": [
    {
     "data": {
      "text/plain": [
       "count    50000.000000\n",
       "mean         2.625320\n",
       "std          1.824029\n",
       "min          1.000000\n",
       "25%          1.000000\n",
       "50%          2.000000\n",
       "75%          4.000000\n",
       "max         21.000000\n",
       "Name: count_Cuisine_Style, dtype: float64"
      ]
     },
     "execution_count": 70,
     "metadata": {},
     "output_type": "execute_result"
    }
   ],
   "source": [
    "data['count_Cuisine_Style'].describe()"
   ]
  },
  {
   "cell_type": "code",
   "execution_count": 71,
   "metadata": {},
   "outputs": [
    {
     "name": "stdout",
     "output_type": "stream",
     "text": [
      "Количество: 50000, Среднее: 2.625, Стандартное отклонение: 1.824.\n",
      "Минимум: 1.0, 25-й перцентиль: 1.0, Медиана: 2.0, 75-й перцентиль: 4.0, Максимум: 21.0, IQR: 3.0.\n",
      "Количество пропусков в столбце:  0\n",
      "Границы выбросов: [-3.5, 8.5]. Количество выбросов:  126\n"
     ]
    },
    {
     "data": {
      "image/png": "[encoded data removed]",
      "text/plain": [
       "<Figure size 1080x720 with 1 Axes>"
      ]
     },
     "metadata": {
      "needs_background": "light"
     },
     "output_type": "display_data"
    }
   ],
   "source": [
    "analyse_numeric(data, 'count_Cuisine_Style')"
   ]
  },
  {
   "cell_type": "code",
   "execution_count": 72,
   "metadata": {},
   "outputs": [
    {
     "data": {
      "text/plain": [
       "Index(['Restaurant_id', 'City', 'Cuisine Style', 'Ranking', 'Price Range',\n",
       "       'Number of Reviews', 'Reviews', 'URL_TA', 'ID_TA', 'sample',\n",
       "       ...\n",
       "       'Central Asian', 'Polynesian', 'Caucasian', 'Uzbek', 'Salvadoran',\n",
       "       'Xinjiang', 'Burmese', 'Fujian', 'Latvian', 'count_Cuisine_Style'],\n",
       "      dtype='object', length=141)"
      ]
     },
     "execution_count": 72,
     "metadata": {},
     "output_type": "execute_result"
    }
   ],
   "source": [
    "data.columns"
   ]
  },
  {
   "cell_type": "code",
   "execution_count": 73,
   "metadata": {},
   "outputs": [],
   "source": [
    "data['Reviews'] = data['Reviews'].fillna('[[], []]')"
   ]
  },
  {
   "cell_type": "code",
   "execution_count": 74,
   "metadata": {},
   "outputs": [
    {
     "data": {
      "text/html": [
       "<div>\n",
       "<style scoped>\n",
       "    .dataframe tbody tr th:only-of-type {\n",
       "        vertical-align: middle;\n",
       "    }\n",
       "\n",
       "    .dataframe tbody tr th {\n",
       "        vertical-align: top;\n",
       "    }\n",
       "\n",
       "    .dataframe thead th {\n",
       "        text-align: right;\n",
       "    }\n",
       "</style>\n",
       "<table border=\"1\" class=\"dataframe\">\n",
       "  <thead>\n",
       "    <tr style=\"text-align: right;\">\n",
       "      <th></th>\n",
       "      <th>Date_of_review</th>\n",
       "      <th>Reviews</th>\n",
       "    </tr>\n",
       "  </thead>\n",
       "  <tbody>\n",
       "    <tr>\n",
       "      <th>0</th>\n",
       "      <td>[]</td>\n",
       "      <td>[[], []]</td>\n",
       "    </tr>\n",
       "    <tr>\n",
       "      <th>1</th>\n",
       "      <td>[12/05/2017, 10/29/2017]</td>\n",
       "      <td>[['Very good reviews!', 'Fine dining in Hakani...</td>\n",
       "    </tr>\n",
       "    <tr>\n",
       "      <th>2</th>\n",
       "      <td>[12/28/2017, 12/06/2017]</td>\n",
       "      <td>[['Better than the Links', 'Ivy Black'], ['12/...</td>\n",
       "    </tr>\n",
       "    <tr>\n",
       "      <th>3</th>\n",
       "      <td>[12/06/2017, 11/22/2017]</td>\n",
       "      <td>[['Most exquisite', 'Delicious and authentic']...</td>\n",
       "    </tr>\n",
       "    <tr>\n",
       "      <th>4</th>\n",
       "      <td>[02/08/2018, 01/24/2018]</td>\n",
       "      <td>[['Always the best in bratislava', 'Very good ...</td>\n",
       "    </tr>\n",
       "  </tbody>\n",
       "</table>\n",
       "</div>"
      ],
      "text/plain": [
       "             Date_of_review                                            Reviews\n",
       "0                        []                                           [[], []]\n",
       "1  [12/05/2017, 10/29/2017]  [['Very good reviews!', 'Fine dining in Hakani...\n",
       "2  [12/28/2017, 12/06/2017]  [['Better than the Links', 'Ivy Black'], ['12/...\n",
       "3  [12/06/2017, 11/22/2017]  [['Most exquisite', 'Delicious and authentic']...\n",
       "4  [02/08/2018, 01/24/2018]  [['Always the best in bratislava', 'Very good ..."
      ]
     },
     "execution_count": 74,
     "metadata": {},
     "output_type": "execute_result"
    }
   ],
   "source": [
    "data['Date_of_review'] = data['Reviews'].str.findall('\\d+/\\d+/\\d+')\n",
    "data['Len_date'] = data['Date_of_review'].apply(lambda x: len(x))\n",
    "data[['Date_of_review', 'Reviews']].head()"
   ]
  },
  {
   "cell_type": "code",
   "execution_count": 75,
   "metadata": {},
   "outputs": [
    {
     "data": {
      "text/plain": [
       "2    36202\n",
       "0     8114\n",
       "1     5680\n",
       "3        4\n",
       "Name: Date_of_review, dtype: int64"
      ]
     },
     "execution_count": 75,
     "metadata": {},
     "output_type": "execute_result"
    }
   ],
   "source": [
    "data.Date_of_review.apply(lambda x: len(x)).value_counts()"
   ]
  },
  {
   "cell_type": "code",
   "execution_count": 76,
   "metadata": {},
   "outputs": [
    {
     "name": "stdout",
     "output_type": "stream",
     "text": [
      "значения Reviews с тремя датами :=\n"
     ]
    },
    {
     "data": {
      "text/plain": [
       "[\"[['We visited 21/10/17', 'Best Kebab in London'], ['12/22/2017', '10/19/2017']]\",\n",
       " \"[['Good Museum Cafeteria', 'Lunch 30/5/2017'], ['04/13/2017', '05/30/2017']]\",\n",
       " \"[['The desserts arcade !', 'Visit today 3/1/2017'], ['06/02/2017', '01/03/2017']]\",\n",
       " \"[['lunch 29/9/2016', 'Unplanned Great Dinner'], ['09/30/2016', '08/25/2016']]\"]"
      ]
     },
     "metadata": {},
     "output_type": "display_data"
    },
    {
     "data": {
      "text/plain": [
       "[['21/10/17', '12/22/2017', '10/19/2017'],\n",
       " ['30/5/2017', '04/13/2017', '05/30/2017'],\n",
       " ['3/1/2017', '06/02/2017', '01/03/2017'],\n",
       " ['29/9/2016', '09/30/2016', '08/25/2016']]"
      ]
     },
     "metadata": {},
     "output_type": "display_data"
    }
   ],
   "source": [
    "# Рассмотрим отзывы с тремя датами:\n",
    "print(\"значения Reviews с тремя датами :=\")\n",
    "temp_list = data[data['Len_date'] == 3].Reviews.to_list()\n",
    "display(data[data['Len_date'] == 3].Reviews.to_list())\n",
    "display([re.findall('\\d+/\\d+/\\d+', x) for x in temp_list])"
   ]
  },
  {
   "cell_type": "code",
   "execution_count": 77,
   "metadata": {},
   "outputs": [],
   "source": [
    "data['Len_date'].Date_of_review = data[data['Len_date']\n",
    "                                       == 3].Date_of_review.apply(lambda x: x.pop(0))"
   ]
  },
  {
   "cell_type": "code",
   "execution_count": 78,
   "metadata": {},
   "outputs": [],
   "source": [
    "# Заполним перерыв между отзывами (по двум отзывам) и отследим насколько давно был сделан последний отзыв:\n",
    "def time_to_now(row):\n",
    "    if row['Date_of_review'] == []:\n",
    "        return None\n",
    "    return pd.datetime.now() - pd.to_datetime(row['Date_of_review']).max()\n",
    "\n",
    "\n",
    "def time_between_reviews(row):\n",
    "    if row['Date_of_review'] == []:\n",
    "        return None\n",
    "    return pd.to_datetime(row['Date_of_review']).max() - pd.to_datetime(row['Date_of_review']).min()\n",
    "\n",
    "\n",
    "data['Day_to_now'] = data.apply(time_to_now, axis=1).dt.days\n",
    "data['Day_between_reviews'] = data[data['Len_date'] == 2].apply(\n",
    "    time_between_reviews, axis=1).dt.days"
   ]
  },
  {
   "cell_type": "code",
   "execution_count": 79,
   "metadata": {},
   "outputs": [
    {
     "name": "stdout",
     "output_type": "stream",
     "text": [
      "Количество: 36202, Среднее: 142.556, Стандартное отклонение: 222.565.\n",
      "Минимум: 0.0, 25-й перцентиль: 20.0, Медиана: 67.0, 75-й перцентиль: 173.0, Максимум: 3296.0, IQR: 153.0.\n",
      "Количество пропусков в столбце:  13798\n",
      "Границы выбросов: [-209.5, 402.5]. Количество выбросов:  2920\n"
     ]
    },
    {
     "data": {
      "image/png": "[encoded data removed]",
      "text/plain": [
       "<Figure size 1080x720 with 1 Axes>"
      ]
     },
     "metadata": {
      "needs_background": "light"
     },
     "output_type": "display_data"
    }
   ],
   "source": [
    "analyse_numeric(data, 'Day_between_reviews')"
   ]
  },
  {
   "cell_type": "code",
   "execution_count": 80,
   "metadata": {},
   "outputs": [
    {
     "name": "stdout",
     "output_type": "stream",
     "text": [
      "Количество: 41886, Среднее: 1419.045, Стандартное отклонение: 363.252.\n",
      "Минимум: 1129.0, 25-й перцентиль: 1208.0, Медиана: 1282.0, 75-й перцентиль: 1466.0, Максимум: 6188.0, IQR: 258.0.\n",
      "Количество пропусков в столбце:  8114\n",
      "Границы выбросов: [821.0, 1853.0]. Количество выбросов:  4014\n"
     ]
    },
    {
     "data": {
      "image/png": "[encoded data removed]",
      "text/plain": [
       "<Figure size 1080x720 with 1 Axes>"
      ]
     },
     "metadata": {
      "needs_background": "light"
     },
     "output_type": "display_data"
    }
   ],
   "source": [
    "analyse_numeric(data, 'Day_to_now')"
   ]
  },
  {
   "cell_type": "code",
   "execution_count": 81,
   "metadata": {},
   "outputs": [
    {
     "name": "stdout",
     "output_type": "stream",
     "text": [
      "Пропусков в столбце с разницей между сегодняшним днём и последним отзывом: 8114\n",
      "Пропусков в столбце с разницей между двумя отзывами: 13798\n"
     ]
    }
   ],
   "source": [
    "# Проверим количество пропусков в новых переменных\n",
    "print('Пропусков в столбце с разницей между сегодняшним днём и последним отзывом: {}'.format(\n",
    "    data['Day_to_now'].isna().sum()))\n",
    "print('Пропусков в столбце с разницей между двумя отзывами: {}'.format(\n",
    "    data['Day_between_reviews'].isna().sum()))"
   ]
  },
  {
   "cell_type": "code",
   "execution_count": 82,
   "metadata": {},
   "outputs": [],
   "source": [
    "# Заполним пропуски нулями\n",
    "\n",
    "data['Day_to_now'] = data['Day_to_now'].fillna(0)\n",
    "data['Day_between_reviews'] = data['Day_between_reviews'].fillna(0)"
   ]
  },
  {
   "cell_type": "code",
   "execution_count": 83,
   "metadata": {},
   "outputs": [],
   "source": [
    "# Создадим параметр Rev_year - год последнего отзыва.\n",
    "# Для этого выделим из даты отзыва более свежий отзыв:\n",
    "def last_review(row):\n",
    "    if row == []:\n",
    "        return None\n",
    "    return pd.to_datetime(row).max()\n",
    "\n",
    "\n",
    "data['Last_review'] = data['Date_of_review'].apply(last_review)"
   ]
  },
  {
   "cell_type": "code",
   "execution_count": 84,
   "metadata": {},
   "outputs": [
    {
     "data": {
      "text/plain": [
       "Timestamp('2004-04-21 00:00:00')"
      ]
     },
     "execution_count": 84,
     "metadata": {},
     "output_type": "execute_result"
    }
   ],
   "source": [
    "# Заполним пропуски минимальным значением:\n",
    "data['Last_review'].min()"
   ]
  },
  {
   "cell_type": "code",
   "execution_count": 85,
   "metadata": {},
   "outputs": [],
   "source": [
    "data['Last_review'] = data['Last_review'].apply(\n",
    "    lambda x: '2004-04-21' if pd.isnull(x) else x)\n",
    "data['Rev_year'] = data['Last_review'].dt.year"
   ]
  },
  {
   "cell_type": "code",
   "execution_count": 86,
   "metadata": {},
   "outputs": [],
   "source": [
    "# Создадим параметр Rev_weekday - день недели последнего отзыва:\n",
    "data['Rev_weekday'] = data['Last_review'].dt.dayofweek\n",
    "data = data.drop(['Last_review'], axis=1)"
   ]
  },
  {
   "cell_type": "code",
   "execution_count": 87,
   "metadata": {},
   "outputs": [],
   "source": [
    "# в переменной очень много пропусков 13886 (34.7%)\n",
    "# сохраним информацию о пропусках чтобы не потерять\n",
    "data['NaN_Price Range'] = pd.isna(data['Price Range']).astype('float64')\n",
    "\n",
    "# заполним значения в переменной по словарю\n",
    "dic_value_Price = {'$': 1, '$$ - $$$': 2, '$$$$': 3}\n",
    "data['Price_Range'] = data['Price Range'].map(\n",
    "    lambda x: dic_value_Price.get(x, x))\n",
    "\n",
    "# 18412 ресторанов это более 70% из заполненной информации имеют средний параметр цены\n",
    "# поэтому заполняем пропуски двойкой (2)\n",
    "data['Price_Range'] = data['Price_Range'].fillna(2)"
   ]
  },
  {
   "cell_type": "code",
   "execution_count": 88,
   "metadata": {},
   "outputs": [
    {
     "data": {
      "text/plain": [
       "count    50000.000000\n",
       "mean         1.879320\n",
       "std          0.421189\n",
       "min          1.000000\n",
       "25%          2.000000\n",
       "50%          2.000000\n",
       "75%          2.000000\n",
       "max          3.000000\n",
       "Name: Price_Range, dtype: float64"
      ]
     },
     "execution_count": 88,
     "metadata": {},
     "output_type": "execute_result"
    }
   ],
   "source": [
    "data['Price_Range'].describe()"
   ]
  },
  {
   "cell_type": "code",
   "execution_count": 89,
   "metadata": {},
   "outputs": [
    {
     "name": "stdout",
     "output_type": "stream",
     "text": [
      "Количество: 50000, Среднее: 1.879, Стандартное отклонение: 0.421.\n",
      "Минимум: 1.0, 25-й перцентиль: 2.0, Медиана: 2.0, 75-й перцентиль: 2.0, Максимум: 3.0, IQR: 0.0.\n",
      "Количество пропусков в столбце:  0\n",
      "Границы выбросов: [2.0, 2.0]. Количество выбросов:  9598\n"
     ]
    },
    {
     "data": {
      "image/png": "[encoded data removed]",
      "text/plain": [
       "<Figure size 1080x720 with 1 Axes>"
      ]
     },
     "metadata": {
      "needs_background": "light"
     },
     "output_type": "display_data"
    }
   ],
   "source": [
    "analyse_numeric(data, 'Price_Range')"
   ]
  },
  {
   "cell_type": "code",
   "execution_count": 90,
   "metadata": {},
   "outputs": [],
   "source": [
    "# в переменной 2543 (6.4%) пропущенных значений\n",
    "# сохраним эту информацию\n",
    "data['NAN_Number of Reviews'] = pd.isna(\n",
    "    data['Number of Reviews']).astype('float64')\n",
    "\n",
    "# для удобства изменим название столбца\n",
    "data.rename(columns={'Number of Reviews': 'Number_of_Reviews'}, inplace=True)\n",
    "data['Number_of_Reviews'].fillna(0, inplace=True)"
   ]
  },
  {
   "cell_type": "code",
   "execution_count": 91,
   "metadata": {},
   "outputs": [
    {
     "name": "stdout",
     "output_type": "stream",
     "text": [
      "Количество: 50000, Среднее: 116.505, Стандартное отклонение: 286.173.\n",
      "Минимум: 0.0, 25-й перцентиль: 7.0, Медиана: 28.0, 75-й перцентиль: 105.0, Максимум: 9660.0, IQR: 98.0.\n",
      "Количество пропусков в столбце:  0\n",
      "Границы выбросов: [-140.0, 252.0]. Количество выбросов:  5946\n"
     ]
    },
    {
     "data": {
      "image/png": "[encoded data removed]",
      "text/plain": [
       "<Figure size 1080x720 with 1 Axes>"
      ]
     },
     "metadata": {
      "needs_background": "light"
     },
     "output_type": "display_data"
    }
   ],
   "source": [
    "analyse_numeric(data, 'Number_of_Reviews')"
   ]
  },
  {
   "cell_type": "code",
   "execution_count": 92,
   "metadata": {},
   "outputs": [
    {
     "data": {
      "application/vnd.plotly.v1+json": {
       "config": {
        "linkText": "Export to plot.ly",
        "plotlyServerURL": "https://plot.ly",
        "showLink": true
       },
       "data": [
        {
         "marker": {
          "color": "rgba(255, 153, 51, 0.6)",
          "line": {
           "color": "rgba(255, 153, 51, 1.0)",
           "width": 1
          }
         },
         "name": "Number_of_Reviews",
         "orientation": "v",
         "text": "",
         "type": "bar",
         "x": [
          1,
          2,
          3,
          4,
          5,
          6,
          7,
          8,
          9,
          10,
          11,
          13,
          15,
          21
         ],
         "y": [
          19.554136135750095,
          71.59930715935334,
          129.7597167821633,
          185.08843308675185,
          260.33534136546183,
          342.26618153964,
          445.76506955177746,
          523.32782369146,
          467.9462365591398,
          792.7692307692307,
          401.5,
          1414,
          3426,
          1480
         ]
        },
        {
         "marker": {
          "color": "rgba(55, 128, 191, 0.6)",
          "line": {
           "color": "rgba(55, 128, 191, 1.0)",
           "width": 1
          }
         },
         "name": "Ranking",
         "orientation": "v",
         "text": "",
         "type": "bar",
         "x": [
          1,
          2,
          3,
          4,
          5,
          6,
          7,
          8,
          9,
          10,
          11,
          13,
          15,
          21
         ],
         "y": [
          4818.153682992673,
          3954.816910443931,
          3345.824645977704,
          2630.5943174176195,
          1946.7121820615796,
          1497.3806970509384,
          1144.3338485316847,
          1023.1432506887053,
          856.3548387096774,
          948.4230769230769,
          485,
          32,
          34,
          94
         ]
        }
       ],
       "layout": {
        "legend": {
         "bgcolor": "#F5F6F9",
         "font": {
          "color": "#4D5663"
         }
        },
        "paper_bgcolor": "#F5F6F9",
        "plot_bgcolor": "#F5F6F9",
        "template": {
         "data": {
          "bar": [
           {
            "error_x": {
             "color": "#2a3f5f"
            },
            "error_y": {
             "color": "#2a3f5f"
            },
            "marker": {
             "line": {
              "color": "#E5ECF6",
              "width": 0.5
             }
            },
            "type": "bar"
           }
          ],
          "barpolar": [
           {
            "marker": {
             "line": {
              "color": "#E5ECF6",
              "width": 0.5
             }
            },
            "type": "barpolar"
           }
          ],
          "carpet": [
           {
            "aaxis": {
             "endlinecolor": "#2a3f5f",
             "gridcolor": "white",
             "linecolor": "white",
             "minorgridcolor": "white",
             "startlinecolor": "#2a3f5f"
            },
            "baxis": {
             "endlinecolor": "#2a3f5f",
             "gridcolor": "white",
             "linecolor": "white",
             "minorgridcolor": "white",
             "startlinecolor": "#2a3f5f"
            },
            "type": "carpet"
           }
          ],
          "choropleth": [
           {
            "colorbar": {
             "outlinewidth": 0,
             "ticks": ""
            },
            "type": "choropleth"
           }
          ],
          "contour": [
           {
            "colorbar": {
             "outlinewidth": 0,
             "ticks": ""
            },
            "colorscale": [
             [
              0,
              "#0d0887"
             ],
             [
              0.1111111111111111,
              "#46039f"
             ],
             [
              0.2222222222222222,
              "#7201a8"
             ],
             [
              0.3333333333333333,
              "#9c179e"
             ],
             [
              0.4444444444444444,
              "#bd3786"
             ],
             [
              0.5555555555555556,
              "#d8576b"
             ],
             [
              0.6666666666666666,
              "#ed7953"
             ],
             [
              0.7777777777777778,
              "#fb9f3a"
             ],
             [
              0.8888888888888888,
              "#fdca26"
             ],
             [
              1,
              "#f0f921"
             ]
            ],
            "type": "contour"
           }
          ],
          "contourcarpet": [
           {
            "colorbar": {
             "outlinewidth": 0,
             "ticks": ""
            },
            "type": "contourcarpet"
           }
          ],
          "heatmap": [
           {
            "colorbar": {
             "outlinewidth": 0,
             "ticks": ""
            },
            "colorscale": [
             [
              0,
              "#0d0887"
             ],
             [
              0.1111111111111111,
              "#46039f"
             ],
             [
              0.2222222222222222,
              "#7201a8"
             ],
             [
              0.3333333333333333,
              "#9c179e"
             ],
             [
              0.4444444444444444,
              "#bd3786"
             ],
             [
              0.5555555555555556,
              "#d8576b"
             ],
             [
              0.6666666666666666,
              "#ed7953"
             ],
             [
              0.7777777777777778,
              "#fb9f3a"
             ],
             [
              0.8888888888888888,
              "#fdca26"
             ],
             [
              1,
              "#f0f921"
             ]
            ],
            "type": "heatmap"
           }
          ],
          "heatmapgl": [
           {
            "colorbar": {
             "outlinewidth": 0,
             "ticks": ""
            },
            "colorscale": [
             [
              0,
              "#0d0887"
             ],
             [
              0.1111111111111111,
              "#46039f"
             ],
             [
              0.2222222222222222,
              "#7201a8"
             ],
             [
              0.3333333333333333,
              "#9c179e"
             ],
             [
              0.4444444444444444,
              "#bd3786"
             ],
             [
              0.5555555555555556,
              "#d8576b"
             ],
             [
              0.6666666666666666,
              "#ed7953"
             ],
             [
              0.7777777777777778,
              "#fb9f3a"
             ],
             [
              0.8888888888888888,
              "#fdca26"
             ],
             [
              1,
              "#f0f921"
             ]
            ],
            "type": "heatmapgl"
           }
          ],
          "histogram": [
           {
            "marker": {
             "colorbar": {
              "outlinewidth": 0,
              "ticks": ""
             }
            },
            "type": "histogram"
           }
          ],
          "histogram2d": [
           {
            "colorbar": {
             "outlinewidth": 0,
             "ticks": ""
            },
            "colorscale": [
             [
              0,
              "#0d0887"
             ],
             [
              0.1111111111111111,
              "#46039f"
             ],
             [
              0.2222222222222222,
              "#7201a8"
             ],
             [
              0.3333333333333333,
              "#9c179e"
             ],
             [
              0.4444444444444444,
              "#bd3786"
             ],
             [
              0.5555555555555556,
              "#d8576b"
             ],
             [
              0.6666666666666666,
              "#ed7953"
             ],
             [
              0.7777777777777778,
              "#fb9f3a"
             ],
             [
              0.8888888888888888,
              "#fdca26"
             ],
             [
              1,
              "#f0f921"
             ]
            ],
            "type": "histogram2d"
           }
          ],
          "histogram2dcontour": [
           {
            "colorbar": {
             "outlinewidth": 0,
             "ticks": ""
            },
            "colorscale": [
             [
              0,
              "#0d0887"
             ],
             [
              0.1111111111111111,
              "#46039f"
             ],
             [
              0.2222222222222222,
              "#7201a8"
             ],
             [
              0.3333333333333333,
              "#9c179e"
             ],
             [
              0.4444444444444444,
              "#bd3786"
             ],
             [
              0.5555555555555556,
              "#d8576b"
             ],
             [
              0.6666666666666666,
              "#ed7953"
             ],
             [
              0.7777777777777778,
              "#fb9f3a"
             ],
             [
              0.8888888888888888,
              "#fdca26"
             ],
             [
              1,
              "#f0f921"
             ]
            ],
            "type": "histogram2dcontour"
           }
          ],
          "mesh3d": [
           {
            "colorbar": {
             "outlinewidth": 0,
             "ticks": ""
            },
            "type": "mesh3d"
           }
          ],
          "parcoords": [
           {
            "line": {
             "colorbar": {
              "outlinewidth": 0,
              "ticks": ""
             }
            },
            "type": "parcoords"
           }
          ],
          "pie": [
           {
            "automargin": true,
            "type": "pie"
           }
          ],
          "scatter": [
           {
            "marker": {
             "colorbar": {
              "outlinewidth": 0,
              "ticks": ""
             }
            },
            "type": "scatter"
           }
          ],
          "scatter3d": [
           {
            "line": {
             "colorbar": {
              "outlinewidth": 0,
              "ticks": ""
             }
            },
            "marker": {
             "colorbar": {
              "outlinewidth": 0,
              "ticks": ""
             }
            },
            "type": "scatter3d"
           }
          ],
          "scattercarpet": [
           {
            "marker": {
             "colorbar": {
              "outlinewidth": 0,
              "ticks": ""
             }
            },
            "type": "scattercarpet"
           }
          ],
          "scattergeo": [
           {
            "marker": {
             "colorbar": {
              "outlinewidth": 0,
              "ticks": ""
             }
            },
            "type": "scattergeo"
           }
          ],
          "scattergl": [
           {
            "marker": {
             "colorbar": {
              "outlinewidth": 0,
              "ticks": ""
             }
            },
            "type": "scattergl"
           }
          ],
          "scattermapbox": [
           {
            "marker": {
             "colorbar": {
              "outlinewidth": 0,
              "ticks": ""
             }
            },
            "type": "scattermapbox"
           }
          ],
          "scatterpolar": [
           {
            "marker": {
             "colorbar": {
              "outlinewidth": 0,
              "ticks": ""
             }
            },
            "type": "scatterpolar"
           }
          ],
          "scatterpolargl": [
           {
            "marker": {
             "colorbar": {
              "outlinewidth": 0,
              "ticks": ""
             }
            },
            "type": "scatterpolargl"
           }
          ],
          "scatterternary": [
           {
            "marker": {
             "colorbar": {
              "outlinewidth": 0,
              "ticks": ""
             }
            },
            "type": "scatterternary"
           }
          ],
          "surface": [
           {
            "colorbar": {
             "outlinewidth": 0,
             "ticks": ""
            },
            "colorscale": [
             [
              0,
              "#0d0887"
             ],
             [
              0.1111111111111111,
              "#46039f"
             ],
             [
              0.2222222222222222,
              "#7201a8"
             ],
             [
              0.3333333333333333,
              "#9c179e"
             ],
             [
              0.4444444444444444,
              "#bd3786"
             ],
             [
              0.5555555555555556,
              "#d8576b"
             ],
             [
              0.6666666666666666,
              "#ed7953"
             ],
             [
              0.7777777777777778,
              "#fb9f3a"
             ],
             [
              0.8888888888888888,
              "#fdca26"
             ],
             [
              1,
              "#f0f921"
             ]
            ],
            "type": "surface"
           }
          ],
          "table": [
           {
            "cells": {
             "fill": {
              "color": "#EBF0F8"
             },
             "line": {
              "color": "white"
             }
            },
            "header": {
             "fill": {
              "color": "#C8D4E3"
             },
             "line": {
              "color": "white"
             }
            },
            "type": "table"
           }
          ]
         },
         "layout": {
          "annotationdefaults": {
           "arrowcolor": "#2a3f5f",
           "arrowhead": 0,
           "arrowwidth": 1
          },
          "autotypenumbers": "strict",
          "coloraxis": {
           "colorbar": {
            "outlinewidth": 0,
            "ticks": ""
           }
          },
          "colorscale": {
           "diverging": [
            [
             0,
             "#8e0152"
            ],
            [
             0.1,
             "#c51b7d"
            ],
            [
             0.2,
             "#de77ae"
            ],
            [
             0.3,
             "#f1b6da"
            ],
            [
             0.4,
             "#fde0ef"
            ],
            [
             0.5,
             "#f7f7f7"
            ],
            [
             0.6,
             "#e6f5d0"
            ],
            [
             0.7,
             "#b8e186"
            ],
            [
             0.8,
             "#7fbc41"
            ],
            [
             0.9,
             "#4d9221"
            ],
            [
             1,
             "#276419"
            ]
           ],
           "sequential": [
            [
             0,
             "#0d0887"
            ],
            [
             0.1111111111111111,
             "#46039f"
            ],
            [
             0.2222222222222222,
             "#7201a8"
            ],
            [
             0.3333333333333333,
             "#9c179e"
            ],
            [
             0.4444444444444444,
             "#bd3786"
            ],
            [
             0.5555555555555556,
             "#d8576b"
            ],
            [
             0.6666666666666666,
             "#ed7953"
            ],
            [
             0.7777777777777778,
             "#fb9f3a"
            ],
            [
             0.8888888888888888,
             "#fdca26"
            ],
            [
             1,
             "#f0f921"
            ]
           ],
           "sequentialminus": [
            [
             0,
             "#0d0887"
            ],
            [
             0.1111111111111111,
             "#46039f"
            ],
            [
             0.2222222222222222,
             "#7201a8"
            ],
            [
             0.3333333333333333,
             "#9c179e"
            ],
            [
             0.4444444444444444,
             "#bd3786"
            ],
            [
             0.5555555555555556,
             "#d8576b"
            ],
            [
             0.6666666666666666,
             "#ed7953"
            ],
            [
             0.7777777777777778,
             "#fb9f3a"
            ],
            [
             0.8888888888888888,
             "#fdca26"
            ],
            [
             1,
             "#f0f921"
            ]
           ]
          },
          "colorway": [
           "#636efa",
           "#EF553B",
           "#00cc96",
           "#ab63fa",
           "#FFA15A",
           "#19d3f3",
           "#FF6692",
           "#B6E880",
           "#FF97FF",
           "#FECB52"
          ],
          "font": {
           "color": "#2a3f5f"
          },
          "geo": {
           "bgcolor": "white",
           "lakecolor": "white",
           "landcolor": "#E5ECF6",
           "showlakes": true,
           "showland": true,
           "subunitcolor": "white"
          },
          "hoverlabel": {
           "align": "left"
          },
          "hovermode": "closest",
          "mapbox": {
           "style": "light"
          },
          "paper_bgcolor": "white",
          "plot_bgcolor": "#E5ECF6",
          "polar": {
           "angularaxis": {
            "gridcolor": "white",
            "linecolor": "white",
            "ticks": ""
           },
           "bgcolor": "#E5ECF6",
           "radialaxis": {
            "gridcolor": "white",
            "linecolor": "white",
            "ticks": ""
           }
          },
          "scene": {
           "xaxis": {
            "backgroundcolor": "#E5ECF6",
            "gridcolor": "white",
            "gridwidth": 2,
            "linecolor": "white",
            "showbackground": true,
            "ticks": "",
            "zerolinecolor": "white"
           },
           "yaxis": {
            "backgroundcolor": "#E5ECF6",
            "gridcolor": "white",
            "gridwidth": 2,
            "linecolor": "white",
            "showbackground": true,
            "ticks": "",
            "zerolinecolor": "white"
           },
           "zaxis": {
            "backgroundcolor": "#E5ECF6",
            "gridcolor": "white",
            "gridwidth": 2,
            "linecolor": "white",
            "showbackground": true,
            "ticks": "",
            "zerolinecolor": "white"
           }
          },
          "shapedefaults": {
           "line": {
            "color": "#2a3f5f"
           }
          },
          "ternary": {
           "aaxis": {
            "gridcolor": "white",
            "linecolor": "white",
            "ticks": ""
           },
           "baxis": {
            "gridcolor": "white",
            "linecolor": "white",
            "ticks": ""
           },
           "bgcolor": "#E5ECF6",
           "caxis": {
            "gridcolor": "white",
            "linecolor": "white",
            "ticks": ""
           }
          },
          "title": {
           "x": 0.05
          },
          "xaxis": {
           "automargin": true,
           "gridcolor": "white",
           "linecolor": "white",
           "ticks": "",
           "title": {
            "standoff": 15
           },
           "zerolinecolor": "white",
           "zerolinewidth": 2
          },
          "yaxis": {
           "automargin": true,
           "gridcolor": "white",
           "linecolor": "white",
           "ticks": "",
           "title": {
            "standoff": 15
           },
           "zerolinecolor": "white",
           "zerolinewidth": 2
          }
         }
        },
        "title": {
         "font": {
          "color": "#4D5663"
         },
         "text": "Ранг ресторанов и количество отзывов в зависимости от количества кухонь"
        },
        "xaxis": {
         "gridcolor": "#E1E5ED",
         "showgrid": true,
         "tickfont": {
          "color": "#4D5663"
         },
         "title": {
          "font": {
           "color": "#4D5663"
          },
          "text": ""
         },
         "zerolinecolor": "#E1E5ED"
        },
        "yaxis": {
         "gridcolor": "#E1E5ED",
         "showgrid": true,
         "tickfont": {
          "color": "#4D5663"
         },
         "title": {
          "font": {
           "color": "#4D5663"
          },
          "text": ""
         },
         "zerolinecolor": "#E1E5ED"
        }
       }
      },
      "text/html": [
       "<div>                            <div id=\"4ba34a44-a2dc-451d-945d-40c1b53289ea\" class=\"plotly-graph-div\" style=\"height:525px; width:100%;\"></div>            <script type=\"text/javascript\">                require([\"plotly\"], function(Plotly) {                    window.PLOTLYENV=window.PLOTLYENV || {};\n",
       "                    window.PLOTLYENV.BASE_URL='https://plot.ly';                                    if (document.getElementById(\"4ba34a44-a2dc-451d-945d-40c1b53289ea\")) {                    Plotly.newPlot(                        \"4ba34a44-a2dc-451d-945d-40c1b53289ea\",                        [{\"marker\": {\"color\": \"rgba(255, 153, 51, 0.6)\", \"line\": {\"color\": \"rgba(255, 153, 51, 1.0)\", \"width\": 1}}, \"name\": \"Number_of_Reviews\", \"orientation\": \"v\", \"text\": \"\", \"type\": \"bar\", \"x\": [1.0, 2.0, 3.0, 4.0, 5.0, 6.0, 7.0, 8.0, 9.0, 10.0, 11.0, 13.0, 15.0, 21.0], \"y\": [19.554136135750095, 71.59930715935334, 129.7597167821633, 185.08843308675185, 260.33534136546183, 342.26618153964, 445.76506955177746, 523.32782369146, 467.9462365591398, 792.7692307692307, 401.5, 1414.0, 3426.0, 1480.0]}, {\"marker\": {\"color\": \"rgba(55, 128, 191, 0.6)\", \"line\": {\"color\": \"rgba(55, 128, 191, 1.0)\", \"width\": 1}}, \"name\": \"Ranking\", \"orientation\": \"v\", \"text\": \"\", \"type\": \"bar\", \"x\": [1.0, 2.0, 3.0, 4.0, 5.0, 6.0, 7.0, 8.0, 9.0, 10.0, 11.0, 13.0, 15.0, 21.0], \"y\": [4818.153682992673, 3954.816910443931, 3345.824645977704, 2630.5943174176195, 1946.7121820615796, 1497.3806970509384, 1144.3338485316847, 1023.1432506887053, 856.3548387096774, 948.4230769230769, 485.0, 32.0, 34.0, 94.0]}],                        {\"legend\": {\"bgcolor\": \"#F5F6F9\", \"font\": {\"color\": \"#4D5663\"}}, \"paper_bgcolor\": \"#F5F6F9\", \"plot_bgcolor\": \"#F5F6F9\", \"template\": {\"data\": {\"bar\": [{\"error_x\": {\"color\": \"#2a3f5f\"}, \"error_y\": {\"color\": \"#2a3f5f\"}, \"marker\": {\"line\": {\"color\": \"#E5ECF6\", \"width\": 0.5}}, \"type\": \"bar\"}], \"barpolar\": [{\"marker\": {\"line\": {\"color\": \"#E5ECF6\", \"width\": 0.5}}, \"type\": \"barpolar\"}], \"carpet\": [{\"aaxis\": {\"endlinecolor\": \"#2a3f5f\", \"gridcolor\": \"white\", \"linecolor\": \"white\", \"minorgridcolor\": \"white\", \"startlinecolor\": \"#2a3f5f\"}, \"baxis\": {\"endlinecolor\": \"#2a3f5f\", \"gridcolor\": \"white\", \"linecolor\": \"white\", \"minorgridcolor\": \"white\", \"startlinecolor\": \"#2a3f5f\"}, \"type\": \"carpet\"}], \"choropleth\": [{\"colorbar\": {\"outlinewidth\": 0, \"ticks\": \"\"}, \"type\": \"choropleth\"}], \"contour\": [{\"colorbar\": {\"outlinewidth\": 0, \"ticks\": \"\"}, \"colorscale\": [[0.0, \"#0d0887\"], [0.1111111111111111, \"#46039f\"], [0.2222222222222222, \"#7201a8\"], [0.3333333333333333, \"#9c179e\"], [0.4444444444444444, \"#bd3786\"], [0.5555555555555556, \"#d8576b\"], [0.6666666666666666, \"#ed7953\"], [0.7777777777777778, \"#fb9f3a\"], [0.8888888888888888, \"#fdca26\"], [1.0, \"#f0f921\"]], \"type\": \"contour\"}], \"contourcarpet\": [{\"colorbar\": {\"outlinewidth\": 0, \"ticks\": \"\"}, \"type\": \"contourcarpet\"}], \"heatmap\": [{\"colorbar\": {\"outlinewidth\": 0, \"ticks\": \"\"}, \"colorscale\": [[0.0, \"#0d0887\"], [0.1111111111111111, \"#46039f\"], [0.2222222222222222, \"#7201a8\"], [0.3333333333333333, \"#9c179e\"], [0.4444444444444444, \"#bd3786\"], [0.5555555555555556, \"#d8576b\"], [0.6666666666666666, \"#ed7953\"], [0.7777777777777778, \"#fb9f3a\"], [0.8888888888888888, \"#fdca26\"], [1.0, \"#f0f921\"]], \"type\": \"heatmap\"}], \"heatmapgl\": [{\"colorbar\": {\"outlinewidth\": 0, \"ticks\": \"\"}, \"colorscale\": [[0.0, \"#0d0887\"], [0.1111111111111111, \"#46039f\"], [0.2222222222222222, \"#7201a8\"], [0.3333333333333333, \"#9c179e\"], [0.4444444444444444, \"#bd3786\"], [0.5555555555555556, \"#d8576b\"], [0.6666666666666666, \"#ed7953\"], [0.7777777777777778, \"#fb9f3a\"], [0.8888888888888888, \"#fdca26\"], [1.0, \"#f0f921\"]], \"type\": \"heatmapgl\"}], \"histogram\": [{\"marker\": {\"colorbar\": {\"outlinewidth\": 0, \"ticks\": \"\"}}, \"type\": \"histogram\"}], \"histogram2d\": [{\"colorbar\": {\"outlinewidth\": 0, \"ticks\": \"\"}, \"colorscale\": [[0.0, \"#0d0887\"], [0.1111111111111111, \"#46039f\"], [0.2222222222222222, \"#7201a8\"], [0.3333333333333333, \"#9c179e\"], [0.4444444444444444, \"#bd3786\"], [0.5555555555555556, \"#d8576b\"], [0.6666666666666666, \"#ed7953\"], [0.7777777777777778, \"#fb9f3a\"], [0.8888888888888888, \"#fdca26\"], [1.0, \"#f0f921\"]], \"type\": \"histogram2d\"}], \"histogram2dcontour\": [{\"colorbar\": {\"outlinewidth\": 0, \"ticks\": \"\"}, \"colorscale\": [[0.0, \"#0d0887\"], [0.1111111111111111, \"#46039f\"], [0.2222222222222222, \"#7201a8\"], [0.3333333333333333, \"#9c179e\"], [0.4444444444444444, \"#bd3786\"], [0.5555555555555556, \"#d8576b\"], [0.6666666666666666, \"#ed7953\"], [0.7777777777777778, \"#fb9f3a\"], [0.8888888888888888, \"#fdca26\"], [1.0, \"#f0f921\"]], \"type\": \"histogram2dcontour\"}], \"mesh3d\": [{\"colorbar\": {\"outlinewidth\": 0, \"ticks\": \"\"}, \"type\": \"mesh3d\"}], \"parcoords\": [{\"line\": {\"colorbar\": {\"outlinewidth\": 0, \"ticks\": \"\"}}, \"type\": \"parcoords\"}], \"pie\": [{\"automargin\": true, \"type\": \"pie\"}], \"scatter\": [{\"marker\": {\"colorbar\": {\"outlinewidth\": 0, \"ticks\": \"\"}}, \"type\": \"scatter\"}], \"scatter3d\": [{\"line\": {\"colorbar\": {\"outlinewidth\": 0, \"ticks\": \"\"}}, \"marker\": {\"colorbar\": {\"outlinewidth\": 0, \"ticks\": \"\"}}, \"type\": \"scatter3d\"}], \"scattercarpet\": [{\"marker\": {\"colorbar\": {\"outlinewidth\": 0, \"ticks\": \"\"}}, \"type\": \"scattercarpet\"}], \"scattergeo\": [{\"marker\": {\"colorbar\": {\"outlinewidth\": 0, \"ticks\": \"\"}}, \"type\": \"scattergeo\"}], \"scattergl\": [{\"marker\": {\"colorbar\": {\"outlinewidth\": 0, \"ticks\": \"\"}}, \"type\": \"scattergl\"}], \"scattermapbox\": [{\"marker\": {\"colorbar\": {\"outlinewidth\": 0, \"ticks\": \"\"}}, \"type\": \"scattermapbox\"}], \"scatterpolar\": [{\"marker\": {\"colorbar\": {\"outlinewidth\": 0, \"ticks\": \"\"}}, \"type\": \"scatterpolar\"}], \"scatterpolargl\": [{\"marker\": {\"colorbar\": {\"outlinewidth\": 0, \"ticks\": \"\"}}, \"type\": \"scatterpolargl\"}], \"scatterternary\": [{\"marker\": {\"colorbar\": {\"outlinewidth\": 0, \"ticks\": \"\"}}, \"type\": \"scatterternary\"}], \"surface\": [{\"colorbar\": {\"outlinewidth\": 0, \"ticks\": \"\"}, \"colorscale\": [[0.0, \"#0d0887\"], [0.1111111111111111, \"#46039f\"], [0.2222222222222222, \"#7201a8\"], [0.3333333333333333, \"#9c179e\"], [0.4444444444444444, \"#bd3786\"], [0.5555555555555556, \"#d8576b\"], [0.6666666666666666, \"#ed7953\"], [0.7777777777777778, \"#fb9f3a\"], [0.8888888888888888, \"#fdca26\"], [1.0, \"#f0f921\"]], \"type\": \"surface\"}], \"table\": [{\"cells\": {\"fill\": {\"color\": \"#EBF0F8\"}, \"line\": {\"color\": \"white\"}}, \"header\": {\"fill\": {\"color\": \"#C8D4E3\"}, \"line\": {\"color\": \"white\"}}, \"type\": \"table\"}]}, \"layout\": {\"annotationdefaults\": {\"arrowcolor\": \"#2a3f5f\", \"arrowhead\": 0, \"arrowwidth\": 1}, \"autotypenumbers\": \"strict\", \"coloraxis\": {\"colorbar\": {\"outlinewidth\": 0, \"ticks\": \"\"}}, \"colorscale\": {\"diverging\": [[0, \"#8e0152\"], [0.1, \"#c51b7d\"], [0.2, \"#de77ae\"], [0.3, \"#f1b6da\"], [0.4, \"#fde0ef\"], [0.5, \"#f7f7f7\"], [0.6, \"#e6f5d0\"], [0.7, \"#b8e186\"], [0.8, \"#7fbc41\"], [0.9, \"#4d9221\"], [1, \"#276419\"]], \"sequential\": [[0.0, \"#0d0887\"], [0.1111111111111111, \"#46039f\"], [0.2222222222222222, \"#7201a8\"], [0.3333333333333333, \"#9c179e\"], [0.4444444444444444, \"#bd3786\"], [0.5555555555555556, \"#d8576b\"], [0.6666666666666666, \"#ed7953\"], [0.7777777777777778, \"#fb9f3a\"], [0.8888888888888888, \"#fdca26\"], [1.0, \"#f0f921\"]], \"sequentialminus\": [[0.0, \"#0d0887\"], [0.1111111111111111, \"#46039f\"], [0.2222222222222222, \"#7201a8\"], [0.3333333333333333, \"#9c179e\"], [0.4444444444444444, \"#bd3786\"], [0.5555555555555556, \"#d8576b\"], [0.6666666666666666, \"#ed7953\"], [0.7777777777777778, \"#fb9f3a\"], [0.8888888888888888, \"#fdca26\"], [1.0, \"#f0f921\"]]}, \"colorway\": [\"#636efa\", \"#EF553B\", \"#00cc96\", \"#ab63fa\", \"#FFA15A\", \"#19d3f3\", \"#FF6692\", \"#B6E880\", \"#FF97FF\", \"#FECB52\"], \"font\": {\"color\": \"#2a3f5f\"}, \"geo\": {\"bgcolor\": \"white\", \"lakecolor\": \"white\", \"landcolor\": \"#E5ECF6\", \"showlakes\": true, \"showland\": true, \"subunitcolor\": \"white\"}, \"hoverlabel\": {\"align\": \"left\"}, \"hovermode\": \"closest\", \"mapbox\": {\"style\": \"light\"}, \"paper_bgcolor\": \"white\", \"plot_bgcolor\": \"#E5ECF6\", \"polar\": {\"angularaxis\": {\"gridcolor\": \"white\", \"linecolor\": \"white\", \"ticks\": \"\"}, \"bgcolor\": \"#E5ECF6\", \"radialaxis\": {\"gridcolor\": \"white\", \"linecolor\": \"white\", \"ticks\": \"\"}}, \"scene\": {\"xaxis\": {\"backgroundcolor\": \"#E5ECF6\", \"gridcolor\": \"white\", \"gridwidth\": 2, \"linecolor\": \"white\", \"showbackground\": true, \"ticks\": \"\", \"zerolinecolor\": \"white\"}, \"yaxis\": {\"backgroundcolor\": \"#E5ECF6\", \"gridcolor\": \"white\", \"gridwidth\": 2, \"linecolor\": \"white\", \"showbackground\": true, \"ticks\": \"\", \"zerolinecolor\": \"white\"}, \"zaxis\": {\"backgroundcolor\": \"#E5ECF6\", \"gridcolor\": \"white\", \"gridwidth\": 2, \"linecolor\": \"white\", \"showbackground\": true, \"ticks\": \"\", \"zerolinecolor\": \"white\"}}, \"shapedefaults\": {\"line\": {\"color\": \"#2a3f5f\"}}, \"ternary\": {\"aaxis\": {\"gridcolor\": \"white\", \"linecolor\": \"white\", \"ticks\": \"\"}, \"baxis\": {\"gridcolor\": \"white\", \"linecolor\": \"white\", \"ticks\": \"\"}, \"bgcolor\": \"#E5ECF6\", \"caxis\": {\"gridcolor\": \"white\", \"linecolor\": \"white\", \"ticks\": \"\"}}, \"title\": {\"x\": 0.05}, \"xaxis\": {\"automargin\": true, \"gridcolor\": \"white\", \"linecolor\": \"white\", \"ticks\": \"\", \"title\": {\"standoff\": 15}, \"zerolinecolor\": \"white\", \"zerolinewidth\": 2}, \"yaxis\": {\"automargin\": true, \"gridcolor\": \"white\", \"linecolor\": \"white\", \"ticks\": \"\", \"title\": {\"standoff\": 15}, \"zerolinecolor\": \"white\", \"zerolinewidth\": 2}}}, \"title\": {\"font\": {\"color\": \"#4D5663\"}, \"text\": \"\\u0420\\u0430\\u043d\\u0433 \\u0440\\u0435\\u0441\\u0442\\u043e\\u0440\\u0430\\u043d\\u043e\\u0432 \\u0438 \\u043a\\u043e\\u043b\\u0438\\u0447\\u0435\\u0441\\u0442\\u0432\\u043e \\u043e\\u0442\\u0437\\u044b\\u0432\\u043e\\u0432 \\u0432 \\u0437\\u0430\\u0432\\u0438\\u0441\\u0438\\u043c\\u043e\\u0441\\u0442\\u0438 \\u043e\\u0442 \\u043a\\u043e\\u043b\\u0438\\u0447\\u0435\\u0441\\u0442\\u0432\\u0430 \\u043a\\u0443\\u0445\\u043e\\u043d\\u044c\"}, \"xaxis\": {\"gridcolor\": \"#E1E5ED\", \"showgrid\": true, \"tickfont\": {\"color\": \"#4D5663\"}, \"title\": {\"font\": {\"color\": \"#4D5663\"}, \"text\": \"\"}, \"zerolinecolor\": \"#E1E5ED\"}, \"yaxis\": {\"gridcolor\": \"#E1E5ED\", \"showgrid\": true, \"tickfont\": {\"color\": \"#4D5663\"}, \"title\": {\"font\": {\"color\": \"#4D5663\"}, \"text\": \"\"}, \"zerolinecolor\": \"#E1E5ED\"}},                        {\"showLink\": true, \"linkText\": \"Export to plot.ly\", \"plotlyServerURL\": \"https://plot.ly\", \"responsive\": true}                    ).then(function(){\n",
       "                            \n",
       "var gd = document.getElementById('4ba34a44-a2dc-451d-945d-40c1b53289ea');\n",
       "var x = new MutationObserver(function (mutations, observer) {{\n",
       "        var display = window.getComputedStyle(gd).display;\n",
       "        if (!display || display === 'none') {{\n",
       "            console.log([gd, 'removed!']);\n",
       "            Plotly.purge(gd);\n",
       "            observer.disconnect();\n",
       "        }}\n",
       "}});\n",
       "\n",
       "// Listen for the removal of the full notebook cells\n",
       "var notebookContainer = gd.closest('#notebook-container');\n",
       "if (notebookContainer) {{\n",
       "    x.observe(notebookContainer, {childList: true});\n",
       "}}\n",
       "\n",
       "// Listen for the clearing of the current output cell\n",
       "var outputEl = gd.closest('.output');\n",
       "if (outputEl) {{\n",
       "    x.observe(outputEl, {childList: true});\n",
       "}}\n",
       "\n",
       "                        })                };                });            </script>        </div>"
      ]
     },
     "metadata": {},
     "output_type": "display_data"
    }
   ],
   "source": [
    "# Рассмотрим расределение ранга ресторанов и количества отзывов в зависимости от количества кухонь:\n",
    "data.pivot_table(values=['Ranking', 'Number_of_Reviews'],\n",
    "                 index='count_Cuisine_Style',\n",
    "                 aggfunc='mean').iplot(kind='bar', title='Ранг ресторанов и количество отзывов в зависимости от количества кухонь')"
   ]
  },
  {
   "cell_type": "code",
   "execution_count": 93,
   "metadata": {},
   "outputs": [
    {
     "data": {
      "text/plain": [
       "array(['Restaurant_id', 'City', 'Cuisine Style', 'Ranking', 'Price Range',\n",
       "       'Number_of_Reviews', 'Reviews', 'URL_TA', 'ID_TA', 'sample',\n",
       "       'Rating', 'NAN_Cuisine Style', 'code_Cuisine Style',\n",
       "       'unique_Cuisine_Style', 'Bar', 'Pub', 'European', 'Scandinavian',\n",
       "       'Gluten Free Options', 'Vegetarian Friendly', 'Vegan Options',\n",
       "       'Italian', 'Mediterranean', 'Seafood', 'French', 'Cafe',\n",
       "       'Fast Food', 'Portuguese', 'Other', 'Greek', 'Czech',\n",
       "       'Eastern European', 'Central European', 'Pizza', 'British',\n",
       "       'Spanish', 'Norwegian', 'African', 'Moroccan', 'Middle Eastern',\n",
       "       'Halal', 'Indian', 'Thai', 'Dutch', 'Welsh', 'American',\n",
       "       'Steakhouse', 'Soups', 'Scottish', 'Fusion', 'Street Food',\n",
       "       'Hungarian', 'Asian', 'Wine Bar', 'Barbecue', 'Central American',\n",
       "       'Peruvian', 'South American', 'Irish', 'Polish', 'Vietnamese',\n",
       "       'Lebanese', 'Turkish', 'Healthy', 'Japanese', 'Sushi', 'Austrian',\n",
       "       'Chinese', 'Danish', 'International', 'Gastropub', 'Korean',\n",
       "       'German', 'Contemporary', 'Arabic', 'Diner', 'Swiss', 'Swedish',\n",
       "       'Persian', 'Australian', 'Grill', 'Mexican', 'Latin', 'Belgian',\n",
       "       'Argentinean', 'Tunisian', 'Russian', 'Nepali', 'Bangladeshi',\n",
       "       'Colombian', 'Sri Lankan', 'Pakistani', 'Brew Pub', 'Israeli',\n",
       "       'Brazilian', 'Delicatessen', 'Kosher', 'Ethiopian', 'Taiwanese',\n",
       "       'Indonesian', 'Malaysian', 'Venezuelan', 'Balti', 'Armenian',\n",
       "       'Slovenian', 'Caribbean', 'Jamaican', 'Ecuadorean', 'Chilean',\n",
       "       'Hawaiian', 'Minority Chinese', 'Croatian', 'Cambodian', 'Afghani',\n",
       "       'Tibetan', 'Romanian', 'Southwestern', 'Mongolian',\n",
       "       'Cajun & Creole', 'Singaporean', 'Filipino', 'Cuban',\n",
       "       'Native American', 'Canadian', 'Egyptian', 'Azerbaijani',\n",
       "       'Georgian', 'Yunnan', 'New Zealand', 'Ukrainian', 'Albanian',\n",
       "       'Central Asian', 'Polynesian', 'Caucasian', 'Uzbek', 'Salvadoran',\n",
       "       'Xinjiang', 'Burmese', 'Fujian', 'Latvian', 'count_Cuisine_Style',\n",
       "       'Date_of_review', 'Len_date', 'Day_to_now', 'Day_between_reviews',\n",
       "       'Rev_year', 'Rev_weekday', 'NaN_Price Range', 'Price_Range',\n",
       "       'NAN_Number of Reviews'], dtype=object)"
      ]
     },
     "execution_count": 93,
     "metadata": {},
     "output_type": "execute_result"
    }
   ],
   "source": [
    "data.columns.values"
   ]
  },
  {
   "cell_type": "code",
   "execution_count": null,
   "metadata": {},
   "outputs": [],
   "source": []
  },
  {
   "cell_type": "code",
   "execution_count": 94,
   "metadata": {},
   "outputs": [],
   "source": [
    "df_count = data.City.value_counts()"
   ]
  },
  {
   "cell_type": "code",
   "execution_count": 95,
   "metadata": {},
   "outputs": [],
   "source": [
    "# Добавим в наш датасет количество ресторанов по городам\n",
    "data['quantity'] = data['City'].apply(lambda x: df_count[x])"
   ]
  },
  {
   "cell_type": "code",
   "execution_count": 96,
   "metadata": {},
   "outputs": [],
   "source": [
    "population_dict = {\n",
    "    'London': 9304016,\n",
    "    'Paris': 2140526,\n",
    "    'Madrid': 3348536,\n",
    "    'Barcelona': 1620343,\n",
    "    'Berlin': 3748148,\n",
    "    'Milan': 1404239,\n",
    "    'Rome': 2856133,\n",
    "    'Prague': 1324277,\n",
    "    'Lisbon': 506654,\n",
    "    'Vienna': 1911728,\n",
    "    'Amsterdam': 873555,\n",
    "    'Brussels': 1209000,\n",
    "    'Hamburg': 1841179,\n",
    "    'Munich': 1471508,\n",
    "    'Lyon': 515695,\n",
    "    'Stockholm': 974073,\n",
    "    'Budapest': 1752286,\n",
    "    'Warsaw': 1790658,\n",
    "    'Dublin': 554554,\n",
    "    'Copenhagen': 626508,\n",
    "    'Athens': 664046,\n",
    "    'Edinburgh': 524930,\n",
    "    'Zurich': 415367,\n",
    "    'Oporto': 237559,\n",
    "    'Geneva': 201818,\n",
    "    'Krakow': 779115,\n",
    "    'Oslo': 693491,\n",
    "    'Helsinki': 648042,\n",
    "    'Bratislava': 432864,\n",
    "    'Luxembourg': 613894,\n",
    "    'Ljubljana': 292988\n",
    "}"
   ]
  },
  {
   "cell_type": "code",
   "execution_count": 97,
   "metadata": {},
   "outputs": [],
   "source": [
    "data['population'] = data['City'].map(population_dict)"
   ]
  },
  {
   "cell_type": "code",
   "execution_count": 98,
   "metadata": {},
   "outputs": [],
   "source": [
    "data['population'] = data['population'] / 1000\n",
    "data['quantity_density'] = data.quantity / data.population"
   ]
  },
  {
   "cell_type": "code",
   "execution_count": 99,
   "metadata": {},
   "outputs": [
    {
     "data": {
      "text/plain": [
       "count_Cuisine_Style  Ranking               -0.322408\n",
       "Ranking              Number_of_Reviews     -0.223198\n",
       "Rev_year             Ranking               -0.141727\n",
       "Ranking              Len_date              -0.140930\n",
       "count_Cuisine_Style  Day_between_reviews   -0.120783\n",
       "Rating               Ranking               -0.109897\n",
       "Number_of_Reviews    Day_between_reviews   -0.087311\n",
       "count_Cuisine_Style  quantity_density      -0.081961\n",
       "Rev_year             Price_Range           -0.077542\n",
       "quantity_density     Len_date              -0.074253\n",
       "Price_Range          Len_date              -0.073869\n",
       "quantity_density     Rev_year              -0.068927\n",
       "Price_Range          Day_to_now            -0.056373\n",
       "quantity_density     Day_to_now            -0.038935\n",
       "Price_Range          Day_between_reviews   -0.035101\n",
       "Ranking              Price_Range           -0.026334\n",
       "Day_between_reviews  Rating                -0.025955\n",
       "quantity             count_Cuisine_Style   -0.024105\n",
       "                     Rating                -0.014779\n",
       "Price_Range          Rating                -0.012176\n",
       "Rating               quantity_density      -0.010842\n",
       "                     Day_to_now            -0.007113\n",
       "quantity             Day_between_reviews   -0.004199\n",
       "Price_Range          count_Cuisine_Style    0.002816\n",
       "                     quantity               0.004841\n",
       "Day_to_now           Ranking                0.006847\n",
       "quantity_density     Number_of_Reviews      0.007150\n",
       "Len_date             Rating                 0.008114\n",
       "Day_between_reviews  quantity_density       0.009661\n",
       "Number_of_Reviews    Rating                 0.011006\n",
       "Rev_year             Rating                 0.016162\n",
       "quantity_density     Price_Range            0.018595\n",
       "quantity             Number_of_Reviews      0.026236\n",
       "Number_of_Reviews    Day_to_now             0.032484\n",
       "count_Cuisine_Style  Rating                 0.034506\n",
       "Day_to_now           quantity               0.038538\n",
       "quantity             Rev_year               0.062891\n",
       "Day_to_now           count_Cuisine_Style    0.066054\n",
       "Day_between_reviews  Ranking                0.069197\n",
       "quantity             Len_date               0.075403\n",
       "quantity_density     Ranking                0.084971\n",
       "Number_of_Reviews    Price_Range            0.107732\n",
       "quantity_density     quantity               0.124619\n",
       "Rev_year             Number_of_Reviews      0.205891\n",
       "                     Day_between_reviews    0.208113\n",
       "Number_of_Reviews    Len_date               0.214637\n",
       "Day_between_reviews  Day_to_now             0.232328\n",
       "Len_date             Day_between_reviews    0.299506\n",
       "Rev_year             count_Cuisine_Style    0.343167\n",
       "Len_date             count_Cuisine_Style    0.373177\n",
       "count_Cuisine_Style  Number_of_Reviews      0.409446\n",
       "Len_date             Day_to_now             0.680561\n",
       "quantity             Ranking                0.709012\n",
       "Day_to_now           Rev_year               0.730478\n",
       "Rev_year             Len_date               0.922346\n",
       "Ranking              Ranking                1.000000\n",
       "dtype: float64"
      ]
     },
     "execution_count": 99,
     "metadata": {},
     "output_type": "execute_result"
    }
   ],
   "source": [
    "data.drop(['City', 'Cuisine Style', 'Price Range',\n",
    "           'Reviews', 'URL_TA', 'sample',\n",
    "           'NAN_Cuisine Style',\n",
    "           'unique_Cuisine_Style', 'Bar', 'Pub', 'European', 'Scandinavian',\n",
    "           'Gluten Free Options', 'Vegetarian Friendly', 'Vegan Options',\n",
    "           'Italian', 'Mediterranean', 'Seafood', 'French', 'Cafe',\n",
    "           'Fast Food', 'Portuguese', 'Other', 'Greek', 'Czech',\n",
    "           'Eastern European', 'Central European', 'Pizza', 'British',\n",
    "           'Spanish', 'Norwegian', 'African', 'Moroccan', 'Middle Eastern',\n",
    "           'Halal', 'Indian', 'Thai', 'Dutch', 'Welsh', 'American',\n",
    "           'Steakhouse', 'Soups', 'Scottish', 'Fusion', 'Street Food',\n",
    "           'Hungarian', 'Asian', 'Wine Bar', 'Barbecue', 'Central American',\n",
    "           'Peruvian', 'South American', 'Irish', 'Polish', 'Vietnamese',\n",
    "           'Lebanese', 'Turkish', 'Healthy', 'Japanese', 'Sushi', 'Austrian',\n",
    "           'Chinese', 'Danish', 'International', 'Gastropub', 'Korean',\n",
    "           'German', 'Contemporary', 'Arabic', 'Diner', 'Swiss', 'Swedish',\n",
    "           'Persian', 'Australian', 'Grill', 'Mexican', 'Latin', 'Belgian',\n",
    "           'Argentinean', 'Tunisian', 'Russian', 'Nepali', 'Bangladeshi',\n",
    "           'Colombian', 'Sri Lankan', 'Pakistani', 'Brew Pub', 'Israeli',\n",
    "           'Brazilian', 'Delicatessen', 'Kosher', 'Ethiopian', 'Taiwanese',\n",
    "           'Indonesian', 'Malaysian', 'Venezuelan', 'Balti', 'Armenian',\n",
    "           'Slovenian', 'Caribbean', 'Jamaican', 'Ecuadorean', 'Chilean',\n",
    "           'Hawaiian', 'Minority Chinese', 'Croatian', 'Cambodian', 'Afghani',\n",
    "           'Tibetan', 'Romanian', 'Southwestern', 'Mongolian',\n",
    "           'Cajun & Creole', 'Singaporean', 'Filipino', 'Cuban',\n",
    "           'Native American', 'Canadian', 'Egyptian', 'Azerbaijani',\n",
    "           'Georgian', 'Yunnan', 'New Zealand', 'Ukrainian', 'Albanian',\n",
    "           'Central Asian', 'Polynesian', 'Caucasian', 'Uzbek', 'Salvadoran',\n",
    "           'Xinjiang', 'Burmese', 'Fujian', 'Latvian',\n",
    "           'Date_of_review', 'NaN_Price Range',\n",
    "           'NAN_Number of Reviews', 'population', 'code_Cuisine Style', 'Rev_weekday'], axis=1).corr().unstack().sort_values().drop_duplicates()"
   ]
  },
  {
   "cell_type": "code",
   "execution_count": 100,
   "metadata": {},
   "outputs": [
    {
     "data": {
      "text/plain": [
       "<matplotlib.axes._subplots.AxesSubplot at 0x1ac4c47dc40>"
      ]
     },
     "execution_count": 100,
     "metadata": {},
     "output_type": "execute_result"
    },
    {
     "data": {
      "image/png": "[encoded data removed]",
      "text/plain": [
       "<Figure size 1080x720 with 2 Axes>"
      ]
     },
     "metadata": {
      "needs_background": "light"
     },
     "output_type": "display_data"
    }
   ],
   "source": [
    "plt.rcParams['figure.figsize'] = (15, 10)\n",
    "sns.heatmap(data.drop(['City', 'Cuisine Style', 'Price Range',\n",
    "                       'Reviews', 'URL_TA', 'sample',\n",
    "                       'NAN_Cuisine Style',\n",
    "                       'unique_Cuisine_Style', 'Bar', 'Pub', 'European', 'Scandinavian',\n",
    "                       'Gluten Free Options', 'Vegetarian Friendly', 'Vegan Options',\n",
    "                       'Italian', 'Mediterranean', 'Seafood', 'French', 'Cafe',\n",
    "                       'Fast Food', 'Portuguese', 'Other', 'Greek', 'Czech',\n",
    "                       'Eastern European', 'Central European', 'Pizza', 'British',\n",
    "                       'Spanish', 'Norwegian', 'African', 'Moroccan', 'Middle Eastern',\n",
    "                       'Halal', 'Indian', 'Thai', 'Dutch', 'Welsh', 'American',\n",
    "                       'Steakhouse', 'Soups', 'Scottish', 'Fusion', 'Street Food',\n",
    "                       'Hungarian', 'Asian', 'Wine Bar', 'Barbecue', 'Central American',\n",
    "                       'Peruvian', 'South American', 'Irish', 'Polish', 'Vietnamese',\n",
    "                       'Lebanese', 'Turkish', 'Healthy', 'Japanese', 'Sushi', 'Austrian',\n",
    "                       'Chinese', 'Danish', 'International', 'Gastropub', 'Korean',\n",
    "                       'German', 'Contemporary', 'Arabic', 'Diner', 'Swiss', 'Swedish',\n",
    "                       'Persian', 'Australian', 'Grill', 'Mexican', 'Latin', 'Belgian',\n",
    "                       'Argentinean', 'Tunisian', 'Russian', 'Nepali', 'Bangladeshi',\n",
    "                       'Colombian', 'Sri Lankan', 'Pakistani', 'Brew Pub', 'Israeli',\n",
    "                       'Brazilian', 'Delicatessen', 'Kosher', 'Ethiopian', 'Taiwanese',\n",
    "                       'Indonesian', 'Malaysian', 'Venezuelan', 'Balti', 'Armenian',\n",
    "                       'Slovenian', 'Caribbean', 'Jamaican', 'Ecuadorean', 'Chilean',\n",
    "                       'Hawaiian', 'Minority Chinese', 'Croatian', 'Cambodian', 'Afghani',\n",
    "                       'Tibetan', 'Romanian', 'Southwestern', 'Mongolian',\n",
    "                       'Cajun & Creole', 'Singaporean', 'Filipino', 'Cuban',\n",
    "                       'Native American', 'Canadian', 'Egyptian', 'Azerbaijani',\n",
    "                       'Georgian', 'Yunnan', 'New Zealand', 'Ukrainian', 'Albanian',\n",
    "                       'Central Asian', 'Polynesian', 'Caucasian', 'Uzbek', 'Salvadoran',\n",
    "                       'Xinjiang', 'Burmese', 'Fujian', 'Latvian',\n",
    "                       'Date_of_review', 'NaN_Price Range',\n",
    "                       'NAN_Number of Reviews'], axis=1).corr(),)"
   ]
  },
  {
   "cell_type": "code",
   "execution_count": 101,
   "metadata": {},
   "outputs": [
    {
     "data": {
      "text/html": [
       "<div>\n",
       "<style scoped>\n",
       "    .dataframe tbody tr th:only-of-type {\n",
       "        vertical-align: middle;\n",
       "    }\n",
       "\n",
       "    .dataframe tbody tr th {\n",
       "        vertical-align: top;\n",
       "    }\n",
       "\n",
       "    .dataframe thead th {\n",
       "        text-align: right;\n",
       "    }\n",
       "</style>\n",
       "<table border=\"1\" class=\"dataframe\">\n",
       "  <thead>\n",
       "    <tr style=\"text-align: right;\">\n",
       "      <th></th>\n",
       "      <th>Restaurant_id</th>\n",
       "      <th>City</th>\n",
       "      <th>Cuisine Style</th>\n",
       "      <th>Ranking</th>\n",
       "      <th>Price Range</th>\n",
       "      <th>Number_of_Reviews</th>\n",
       "      <th>Reviews</th>\n",
       "      <th>URL_TA</th>\n",
       "      <th>ID_TA</th>\n",
       "      <th>sample</th>\n",
       "      <th>...</th>\n",
       "      <th>City_Munich</th>\n",
       "      <th>City_Oporto</th>\n",
       "      <th>City_Oslo</th>\n",
       "      <th>City_Paris</th>\n",
       "      <th>City_Prague</th>\n",
       "      <th>City_Rome</th>\n",
       "      <th>City_Stockholm</th>\n",
       "      <th>City_Vienna</th>\n",
       "      <th>City_Warsaw</th>\n",
       "      <th>City_Zurich</th>\n",
       "    </tr>\n",
       "  </thead>\n",
       "  <tbody>\n",
       "    <tr>\n",
       "      <th>0</th>\n",
       "      <td>id_0</td>\n",
       "      <td>Paris</td>\n",
       "      <td>[Bar, Pub]</td>\n",
       "      <td>12963.0</td>\n",
       "      <td>$$ - $$$</td>\n",
       "      <td>4.0</td>\n",
       "      <td>[[], []]</td>\n",
       "      <td>/Restaurant_Review-g187147-d10746918-Reviews-L...</td>\n",
       "      <td>d10746918</td>\n",
       "      <td>0</td>\n",
       "      <td>...</td>\n",
       "      <td>0</td>\n",
       "      <td>0</td>\n",
       "      <td>0</td>\n",
       "      <td>1</td>\n",
       "      <td>0</td>\n",
       "      <td>0</td>\n",
       "      <td>0</td>\n",
       "      <td>0</td>\n",
       "      <td>0</td>\n",
       "      <td>0</td>\n",
       "    </tr>\n",
       "    <tr>\n",
       "      <th>1</th>\n",
       "      <td>id_1</td>\n",
       "      <td>Helsinki</td>\n",
       "      <td>[European, Scandinavian, Gluten Free Options, ...</td>\n",
       "      <td>106.0</td>\n",
       "      <td>$$ - $$$</td>\n",
       "      <td>97.0</td>\n",
       "      <td>[['Very good reviews!', 'Fine dining in Hakani...</td>\n",
       "      <td>/Restaurant_Review-g189934-d6674944-Reviews-Ra...</td>\n",
       "      <td>d6674944</td>\n",
       "      <td>0</td>\n",
       "      <td>...</td>\n",
       "      <td>0</td>\n",
       "      <td>0</td>\n",
       "      <td>0</td>\n",
       "      <td>0</td>\n",
       "      <td>0</td>\n",
       "      <td>0</td>\n",
       "      <td>0</td>\n",
       "      <td>0</td>\n",
       "      <td>0</td>\n",
       "      <td>0</td>\n",
       "    </tr>\n",
       "    <tr>\n",
       "      <th>2</th>\n",
       "      <td>id_2</td>\n",
       "      <td>Edinburgh</td>\n",
       "      <td>[Vegetarian Friendly]</td>\n",
       "      <td>810.0</td>\n",
       "      <td>$$ - $$$</td>\n",
       "      <td>28.0</td>\n",
       "      <td>[['Better than the Links', 'Ivy Black'], ['12/...</td>\n",
       "      <td>/Restaurant_Review-g186525-d13129638-Reviews-B...</td>\n",
       "      <td>d13129638</td>\n",
       "      <td>0</td>\n",
       "      <td>...</td>\n",
       "      <td>0</td>\n",
       "      <td>0</td>\n",
       "      <td>0</td>\n",
       "      <td>0</td>\n",
       "      <td>0</td>\n",
       "      <td>0</td>\n",
       "      <td>0</td>\n",
       "      <td>0</td>\n",
       "      <td>0</td>\n",
       "      <td>0</td>\n",
       "    </tr>\n",
       "  </tbody>\n",
       "</table>\n",
       "<p>3 rows × 184 columns</p>\n",
       "</div>"
      ],
      "text/plain": [
       "  Restaurant_id       City                                      Cuisine Style  \\\n",
       "0          id_0      Paris                                         [Bar, Pub]   \n",
       "1          id_1   Helsinki  [European, Scandinavian, Gluten Free Options, ...   \n",
       "2          id_2  Edinburgh                              [Vegetarian Friendly]   \n",
       "\n",
       "   Ranking Price Range  Number_of_Reviews  \\\n",
       "0  12963.0    $$ - $$$                4.0   \n",
       "1    106.0    $$ - $$$               97.0   \n",
       "2    810.0    $$ - $$$               28.0   \n",
       "\n",
       "                                             Reviews  \\\n",
       "0                                           [[], []]   \n",
       "1  [['Very good reviews!', 'Fine dining in Hakani...   \n",
       "2  [['Better than the Links', 'Ivy Black'], ['12/...   \n",
       "\n",
       "                                              URL_TA      ID_TA  sample  ...  \\\n",
       "0  /Restaurant_Review-g187147-d10746918-Reviews-L...  d10746918       0  ...   \n",
       "1  /Restaurant_Review-g189934-d6674944-Reviews-Ra...   d6674944       0  ...   \n",
       "2  /Restaurant_Review-g186525-d13129638-Reviews-B...  d13129638       0  ...   \n",
       "\n",
       "   City_Munich  City_Oporto  City_Oslo  City_Paris  City_Prague  City_Rome  \\\n",
       "0            0            0          0           1            0          0   \n",
       "1            0            0          0           0            0          0   \n",
       "2            0            0          0           0            0          0   \n",
       "\n",
       "   City_Stockholm  City_Vienna  City_Warsaw  City_Zurich  \n",
       "0               0            0            0            0  \n",
       "1               0            0            0            0  \n",
       "2               0            0            0            0  \n",
       "\n",
       "[3 rows x 184 columns]"
      ]
     },
     "execution_count": 101,
     "metadata": {},
     "output_type": "execute_result"
    }
   ],
   "source": [
    "# Добавим дамми-переменные по городам\n",
    "data = pd.concat([data, pd.get_dummies(data.City, prefix='City')], axis=1)\n",
    "data.head(3)"
   ]
  },
  {
   "cell_type": "code",
   "execution_count": 102,
   "metadata": {},
   "outputs": [],
   "source": [
    "# Теперь нужно соотнести столицы по странам\n",
    "countries_dict = {'Amsterdam': 'Netherlands',\n",
    "                  'Athens': 'Greece',\n",
    "                  'Barcelona': 'Spain',\n",
    "                  'Berlin': 'Germany',\n",
    "                  'Bratislava': 'Slovakia',\n",
    "                  'Brussels': 'Belgium',\n",
    "                  'Budapest': 'Hungary',\n",
    "                  'Copenhagen': 'Denmark',\n",
    "                  'Dublin': 'Ireland',\n",
    "                  'Edinburgh': 'UK',\n",
    "                  'Geneva': 'Switzerland',\n",
    "                  'Hamburg': 'Germany',\n",
    "                  'Helsinki': 'Finland',\n",
    "                  'Krakow': 'Poland',\n",
    "                  'Lisbon': 'Portugal',\n",
    "                  'Ljubljana': 'Slovenia',\n",
    "                  'London': 'UK',\n",
    "                  'Luxembourg': 'Luxembourg',\n",
    "                  'Lyon': 'France',\n",
    "                  'Madrid': 'Spain',\n",
    "                  'Milan': 'Italy',\n",
    "                  'Munich': 'Germany',\n",
    "                  'Oporto': 'Portugal',\n",
    "                  'Oslo': 'Norway',\n",
    "                  'Paris': 'France',\n",
    "                  'Prague': 'Czechia',\n",
    "                  'Rome': 'Italy',\n",
    "                  'Stockholm': 'Sweden',\n",
    "                  'Vienna': 'Austria',\n",
    "                  'Warsaw': 'Poland',\n",
    "                  'Zurich': 'Switzerland'}\n",
    "\n",
    "data['country'] = data.apply(lambda row: countries_dict[row['City']], axis=1)"
   ]
  },
  {
   "cell_type": "code",
   "execution_count": 103,
   "metadata": {},
   "outputs": [],
   "source": [
    "# Добавим данные по ВВП стране - это непосредственно влияет на количество посетителей и на качество ресторанов\n",
    "dict_Economies = {'UK': 45741, 'France': 45893, 'Spain': 40172,\n",
    "                  'Germany': 52386, 'Italy': 39676, 'Czech_c': 37340,\n",
    "                  'Portugal': 32412, 'Austria': 52172, 'Holland': 56489,\n",
    "                  'Belgium': 48327, 'Sweden': 53652, 'Romania': 26448,\n",
    "                  'Poland': 32005, 'Ireland': 79617, 'Denmark': 52279,\n",
    "                  'Greece': 29072, 'Scotland': 45741, 'Switzerland': 65010,\n",
    "                  'Norway': 74357, 'Finland': 46596, 'Slovakia': 35136,\n",
    "                  'Luxembourg': 106372, 'Slovenia': 36741, 'Hungary': 14225,\n",
    "                  'Czechia': 20368, 'Netherlands': 48223}\n",
    "data['Economy'] = data.apply(\n",
    "    lambda row: dict_Economies[row['country']], axis=1)"
   ]
  },
  {
   "cell_type": "code",
   "execution_count": 104,
   "metadata": {},
   "outputs": [],
   "source": [
    "# Добавим столбец Rest_density - сколько ресторанов приходится на человека в городе (плотность ресторанов):\n",
    "data['quantity_density'] = data['quantity'] / data['population']"
   ]
  },
  {
   "cell_type": "code",
   "execution_count": 105,
   "metadata": {},
   "outputs": [],
   "source": [
    "object_columns = [s for s in data.columns if data[s].dtypes == 'object']\n",
    "data.drop(object_columns, axis=1, inplace=True)"
   ]
  },
  {
   "cell_type": "code",
   "execution_count": 106,
   "metadata": {},
   "outputs": [],
   "source": [
    "# Х - данные с информацией о ресторанах, у - целевая переменная (рейтинги ресторанов)\n",
    "# Теперь выделим тестовую часть\n",
    "train_data = data.query('sample == 1').drop(['sample'], axis=1)\n",
    "test_data = data.query('sample == 0').drop(['sample'], axis=1)\n",
    "\n",
    "y = train_data.Rating.values            # наш таргет\n",
    "X = train_data.drop(['Rating'], axis=1)"
   ]
  },
  {
   "cell_type": "code",
   "execution_count": 107,
   "metadata": {},
   "outputs": [],
   "source": [
    "# Загружаем специальный инструмент для разбивки:\n",
    "from sklearn.model_selection import train_test_split"
   ]
  },
  {
   "cell_type": "code",
   "execution_count": 108,
   "metadata": {},
   "outputs": [],
   "source": [
    "# Наборы данных с меткой \"train\" будут использоваться для обучения модели, \"test\" - для тестирования.\n",
    "# Для тестирования мы будем использовать 25% от исходного датасета.\n",
    "X_train, X_test, y_train, y_test = train_test_split(X, y, test_size=0.25)"
   ]
  },
  {
   "cell_type": "markdown",
   "metadata": {},
   "source": [
    "# Создаём, обучаем и тестируем модель"
   ]
  },
  {
   "cell_type": "code",
   "execution_count": 109,
   "metadata": {},
   "outputs": [],
   "source": [
    "# Импортируем необходимые библиотеки:\n",
    "from sklearn.ensemble import RandomForestRegressor # инструмент для создания и обучения модели\n",
    "from sklearn import metrics # инструменты для оценки точности модели"
   ]
  },
  {
   "cell_type": "code",
   "execution_count": 110,
   "metadata": {},
   "outputs": [],
   "source": [
    "# Создаём модель\n",
    "regr = RandomForestRegressor(n_estimators=100)\n",
    "\n",
    "# Обучаем модель на тестовом наборе данных\n",
    "regr.fit(X_train, y_train)\n",
    "\n",
    "# Используем обученную модель для предсказания рейтинга ресторанов в тестовой выборке.\n",
    "# Предсказанные значения записываем в переменную y_pred\n",
    "y_pred = regr.predict(X_test)"
   ]
  },
  {
   "cell_type": "code",
   "execution_count": 111,
   "metadata": {},
   "outputs": [
    {
     "name": "stdout",
     "output_type": "stream",
     "text": [
      "MAE: 0.2081645\n"
     ]
    }
   ],
   "source": [
    "# Сравниваем предсказанные значения (y_pred) с реальными (y_test), и смотрим насколько они в среднем отличаются\n",
    "# Метрика называется Mean Absolute Error (MAE) и показывает среднее отклонение предсказанных значений от фактических.\n",
    "print('MAE:', metrics.mean_absolute_error(y_test, y_pred))"
   ]
  },
  {
   "cell_type": "code",
   "execution_count": 112,
   "metadata": {},
   "outputs": [
    {
     "data": {
      "text/html": [
       "<div>\n",
       "<style scoped>\n",
       "    .dataframe tbody tr th:only-of-type {\n",
       "        vertical-align: middle;\n",
       "    }\n",
       "\n",
       "    .dataframe tbody tr th {\n",
       "        vertical-align: top;\n",
       "    }\n",
       "\n",
       "    .dataframe thead th {\n",
       "        text-align: right;\n",
       "    }\n",
       "</style>\n",
       "<table border=\"1\" class=\"dataframe\">\n",
       "  <thead>\n",
       "    <tr style=\"text-align: right;\">\n",
       "      <th></th>\n",
       "      <th>Ranking</th>\n",
       "      <th>Number_of_Reviews</th>\n",
       "      <th>Rating</th>\n",
       "      <th>NAN_Cuisine Style</th>\n",
       "      <th>code_Cuisine Style</th>\n",
       "      <th>unique_Cuisine_Style</th>\n",
       "      <th>Bar</th>\n",
       "      <th>Pub</th>\n",
       "      <th>European</th>\n",
       "      <th>Scandinavian</th>\n",
       "      <th>...</th>\n",
       "      <th>City_Oporto</th>\n",
       "      <th>City_Oslo</th>\n",
       "      <th>City_Paris</th>\n",
       "      <th>City_Prague</th>\n",
       "      <th>City_Rome</th>\n",
       "      <th>City_Stockholm</th>\n",
       "      <th>City_Vienna</th>\n",
       "      <th>City_Warsaw</th>\n",
       "      <th>City_Zurich</th>\n",
       "      <th>Economy</th>\n",
       "    </tr>\n",
       "  </thead>\n",
       "  <tbody>\n",
       "    <tr>\n",
       "      <th>5339</th>\n",
       "      <td>524.0</td>\n",
       "      <td>3.0</td>\n",
       "      <td>0.0</td>\n",
       "      <td>0.0</td>\n",
       "      <td>2053</td>\n",
       "      <td>0.0</td>\n",
       "      <td>1.0</td>\n",
       "      <td>1.0</td>\n",
       "      <td>1.0</td>\n",
       "      <td>0.0</td>\n",
       "      <td>...</td>\n",
       "      <td>0</td>\n",
       "      <td>0</td>\n",
       "      <td>0</td>\n",
       "      <td>0</td>\n",
       "      <td>0</td>\n",
       "      <td>0</td>\n",
       "      <td>0</td>\n",
       "      <td>0</td>\n",
       "      <td>0</td>\n",
       "      <td>106372</td>\n",
       "    </tr>\n",
       "    <tr>\n",
       "      <th>2792</th>\n",
       "      <td>5921.0</td>\n",
       "      <td>3.0</td>\n",
       "      <td>0.0</td>\n",
       "      <td>1.0</td>\n",
       "      <td>9173</td>\n",
       "      <td>0.0</td>\n",
       "      <td>0.0</td>\n",
       "      <td>0.0</td>\n",
       "      <td>0.0</td>\n",
       "      <td>0.0</td>\n",
       "      <td>...</td>\n",
       "      <td>0</td>\n",
       "      <td>0</td>\n",
       "      <td>0</td>\n",
       "      <td>0</td>\n",
       "      <td>0</td>\n",
       "      <td>0</td>\n",
       "      <td>0</td>\n",
       "      <td>0</td>\n",
       "      <td>0</td>\n",
       "      <td>40172</td>\n",
       "    </tr>\n",
       "    <tr>\n",
       "      <th>2064</th>\n",
       "      <td>1512.0</td>\n",
       "      <td>0.0</td>\n",
       "      <td>0.0</td>\n",
       "      <td>0.0</td>\n",
       "      <td>2513</td>\n",
       "      <td>0.0</td>\n",
       "      <td>0.0</td>\n",
       "      <td>0.0</td>\n",
       "      <td>1.0</td>\n",
       "      <td>0.0</td>\n",
       "      <td>...</td>\n",
       "      <td>0</td>\n",
       "      <td>0</td>\n",
       "      <td>0</td>\n",
       "      <td>0</td>\n",
       "      <td>0</td>\n",
       "      <td>0</td>\n",
       "      <td>0</td>\n",
       "      <td>0</td>\n",
       "      <td>0</td>\n",
       "      <td>52386</td>\n",
       "    </tr>\n",
       "    <tr>\n",
       "      <th>2606</th>\n",
       "      <td>2079.0</td>\n",
       "      <td>3.0</td>\n",
       "      <td>0.0</td>\n",
       "      <td>0.0</td>\n",
       "      <td>6201</td>\n",
       "      <td>0.0</td>\n",
       "      <td>0.0</td>\n",
       "      <td>0.0</td>\n",
       "      <td>0.0</td>\n",
       "      <td>0.0</td>\n",
       "      <td>...</td>\n",
       "      <td>0</td>\n",
       "      <td>0</td>\n",
       "      <td>0</td>\n",
       "      <td>0</td>\n",
       "      <td>0</td>\n",
       "      <td>0</td>\n",
       "      <td>0</td>\n",
       "      <td>0</td>\n",
       "      <td>0</td>\n",
       "      <td>32412</td>\n",
       "    </tr>\n",
       "    <tr>\n",
       "      <th>5108</th>\n",
       "      <td>836.0</td>\n",
       "      <td>23.0</td>\n",
       "      <td>0.0</td>\n",
       "      <td>0.0</td>\n",
       "      <td>10404</td>\n",
       "      <td>0.0</td>\n",
       "      <td>0.0</td>\n",
       "      <td>0.0</td>\n",
       "      <td>0.0</td>\n",
       "      <td>0.0</td>\n",
       "      <td>...</td>\n",
       "      <td>0</td>\n",
       "      <td>0</td>\n",
       "      <td>0</td>\n",
       "      <td>0</td>\n",
       "      <td>0</td>\n",
       "      <td>0</td>\n",
       "      <td>0</td>\n",
       "      <td>0</td>\n",
       "      <td>0</td>\n",
       "      <td>52386</td>\n",
       "    </tr>\n",
       "    <tr>\n",
       "      <th>2699</th>\n",
       "      <td>404.0</td>\n",
       "      <td>91.0</td>\n",
       "      <td>0.0</td>\n",
       "      <td>0.0</td>\n",
       "      <td>7113</td>\n",
       "      <td>0.0</td>\n",
       "      <td>0.0</td>\n",
       "      <td>0.0</td>\n",
       "      <td>1.0</td>\n",
       "      <td>0.0</td>\n",
       "      <td>...</td>\n",
       "      <td>0</td>\n",
       "      <td>0</td>\n",
       "      <td>0</td>\n",
       "      <td>0</td>\n",
       "      <td>0</td>\n",
       "      <td>0</td>\n",
       "      <td>0</td>\n",
       "      <td>0</td>\n",
       "      <td>0</td>\n",
       "      <td>48327</td>\n",
       "    </tr>\n",
       "    <tr>\n",
       "      <th>994</th>\n",
       "      <td>1580.0</td>\n",
       "      <td>2.0</td>\n",
       "      <td>0.0</td>\n",
       "      <td>0.0</td>\n",
       "      <td>322</td>\n",
       "      <td>0.0</td>\n",
       "      <td>0.0</td>\n",
       "      <td>0.0</td>\n",
       "      <td>1.0</td>\n",
       "      <td>0.0</td>\n",
       "      <td>...</td>\n",
       "      <td>0</td>\n",
       "      <td>0</td>\n",
       "      <td>0</td>\n",
       "      <td>0</td>\n",
       "      <td>0</td>\n",
       "      <td>0</td>\n",
       "      <td>0</td>\n",
       "      <td>1</td>\n",
       "      <td>0</td>\n",
       "      <td>32005</td>\n",
       "    </tr>\n",
       "    <tr>\n",
       "      <th>7133</th>\n",
       "      <td>4184.0</td>\n",
       "      <td>32.0</td>\n",
       "      <td>0.0</td>\n",
       "      <td>0.0</td>\n",
       "      <td>9385</td>\n",
       "      <td>0.0</td>\n",
       "      <td>0.0</td>\n",
       "      <td>0.0</td>\n",
       "      <td>0.0</td>\n",
       "      <td>0.0</td>\n",
       "      <td>...</td>\n",
       "      <td>0</td>\n",
       "      <td>0</td>\n",
       "      <td>0</td>\n",
       "      <td>0</td>\n",
       "      <td>0</td>\n",
       "      <td>0</td>\n",
       "      <td>0</td>\n",
       "      <td>0</td>\n",
       "      <td>0</td>\n",
       "      <td>39676</td>\n",
       "    </tr>\n",
       "    <tr>\n",
       "      <th>9505</th>\n",
       "      <td>1324.0</td>\n",
       "      <td>4.0</td>\n",
       "      <td>0.0</td>\n",
       "      <td>1.0</td>\n",
       "      <td>9173</td>\n",
       "      <td>0.0</td>\n",
       "      <td>0.0</td>\n",
       "      <td>0.0</td>\n",
       "      <td>0.0</td>\n",
       "      <td>0.0</td>\n",
       "      <td>...</td>\n",
       "      <td>0</td>\n",
       "      <td>0</td>\n",
       "      <td>0</td>\n",
       "      <td>0</td>\n",
       "      <td>0</td>\n",
       "      <td>1</td>\n",
       "      <td>0</td>\n",
       "      <td>0</td>\n",
       "      <td>0</td>\n",
       "      <td>53652</td>\n",
       "    </tr>\n",
       "    <tr>\n",
       "      <th>1922</th>\n",
       "      <td>3311.0</td>\n",
       "      <td>181.0</td>\n",
       "      <td>0.0</td>\n",
       "      <td>0.0</td>\n",
       "      <td>4750</td>\n",
       "      <td>0.0</td>\n",
       "      <td>0.0</td>\n",
       "      <td>0.0</td>\n",
       "      <td>1.0</td>\n",
       "      <td>0.0</td>\n",
       "      <td>...</td>\n",
       "      <td>0</td>\n",
       "      <td>0</td>\n",
       "      <td>1</td>\n",
       "      <td>0</td>\n",
       "      <td>0</td>\n",
       "      <td>0</td>\n",
       "      <td>0</td>\n",
       "      <td>0</td>\n",
       "      <td>0</td>\n",
       "      <td>45893</td>\n",
       "    </tr>\n",
       "  </tbody>\n",
       "</table>\n",
       "<p>10 rows × 176 columns</p>\n",
       "</div>"
      ],
      "text/plain": [
       "      Ranking  Number_of_Reviews  Rating  NAN_Cuisine Style  \\\n",
       "5339    524.0                3.0     0.0                0.0   \n",
       "2792   5921.0                3.0     0.0                1.0   \n",
       "2064   1512.0                0.0     0.0                0.0   \n",
       "2606   2079.0                3.0     0.0                0.0   \n",
       "5108    836.0               23.0     0.0                0.0   \n",
       "2699    404.0               91.0     0.0                0.0   \n",
       "994    1580.0                2.0     0.0                0.0   \n",
       "7133   4184.0               32.0     0.0                0.0   \n",
       "9505   1324.0                4.0     0.0                1.0   \n",
       "1922   3311.0              181.0     0.0                0.0   \n",
       "\n",
       "      code_Cuisine Style  unique_Cuisine_Style  Bar  Pub  European  \\\n",
       "5339                2053                   0.0  1.0  1.0       1.0   \n",
       "2792                9173                   0.0  0.0  0.0       0.0   \n",
       "2064                2513                   0.0  0.0  0.0       1.0   \n",
       "2606                6201                   0.0  0.0  0.0       0.0   \n",
       "5108               10404                   0.0  0.0  0.0       0.0   \n",
       "2699                7113                   0.0  0.0  0.0       1.0   \n",
       "994                  322                   0.0  0.0  0.0       1.0   \n",
       "7133                9385                   0.0  0.0  0.0       0.0   \n",
       "9505                9173                   0.0  0.0  0.0       0.0   \n",
       "1922                4750                   0.0  0.0  0.0       1.0   \n",
       "\n",
       "      Scandinavian  ...  City_Oporto  City_Oslo  City_Paris  City_Prague  \\\n",
       "5339           0.0  ...            0          0           0            0   \n",
       "2792           0.0  ...            0          0           0            0   \n",
       "2064           0.0  ...            0          0           0            0   \n",
       "2606           0.0  ...            0          0           0            0   \n",
       "5108           0.0  ...            0          0           0            0   \n",
       "2699           0.0  ...            0          0           0            0   \n",
       "994            0.0  ...            0          0           0            0   \n",
       "7133           0.0  ...            0          0           0            0   \n",
       "9505           0.0  ...            0          0           0            0   \n",
       "1922           0.0  ...            0          0           1            0   \n",
       "\n",
       "      City_Rome  City_Stockholm  City_Vienna  City_Warsaw  City_Zurich  \\\n",
       "5339          0               0            0            0            0   \n",
       "2792          0               0            0            0            0   \n",
       "2064          0               0            0            0            0   \n",
       "2606          0               0            0            0            0   \n",
       "5108          0               0            0            0            0   \n",
       "2699          0               0            0            0            0   \n",
       "994           0               0            0            1            0   \n",
       "7133          0               0            0            0            0   \n",
       "9505          0               1            0            0            0   \n",
       "1922          0               0            0            0            0   \n",
       "\n",
       "      Economy  \n",
       "5339   106372  \n",
       "2792    40172  \n",
       "2064    52386  \n",
       "2606    32412  \n",
       "5108    52386  \n",
       "2699    48327  \n",
       "994     32005  \n",
       "7133    39676  \n",
       "9505    53652  \n",
       "1922    45893  \n",
       "\n",
       "[10 rows x 176 columns]"
      ]
     },
     "execution_count": 112,
     "metadata": {},
     "output_type": "execute_result"
    }
   ],
   "source": [
    "###готовим submission\n",
    "test_data.sample(10)\n"
   ]
  },
  {
   "cell_type": "code",
   "execution_count": 113,
   "metadata": {},
   "outputs": [],
   "source": [
    "test_data = test_data.drop(['Rating'], axis=1)\n"
   ]
  },
  {
   "cell_type": "code",
   "execution_count": 114,
   "metadata": {},
   "outputs": [
    {
     "data": {
      "text/html": [
       "<div>\n",
       "<style scoped>\n",
       "    .dataframe tbody tr th:only-of-type {\n",
       "        vertical-align: middle;\n",
       "    }\n",
       "\n",
       "    .dataframe tbody tr th {\n",
       "        vertical-align: top;\n",
       "    }\n",
       "\n",
       "    .dataframe thead th {\n",
       "        text-align: right;\n",
       "    }\n",
       "</style>\n",
       "<table border=\"1\" class=\"dataframe\">\n",
       "  <thead>\n",
       "    <tr style=\"text-align: right;\">\n",
       "      <th></th>\n",
       "      <th>Restaurant_id</th>\n",
       "      <th>Rating</th>\n",
       "    </tr>\n",
       "  </thead>\n",
       "  <tbody>\n",
       "    <tr>\n",
       "      <th>0</th>\n",
       "      <td>id_0</td>\n",
       "      <td>2.0</td>\n",
       "    </tr>\n",
       "    <tr>\n",
       "      <th>1</th>\n",
       "      <td>id_1</td>\n",
       "      <td>2.5</td>\n",
       "    </tr>\n",
       "    <tr>\n",
       "      <th>2</th>\n",
       "      <td>id_2</td>\n",
       "      <td>4.0</td>\n",
       "    </tr>\n",
       "    <tr>\n",
       "      <th>3</th>\n",
       "      <td>id_3</td>\n",
       "      <td>1.0</td>\n",
       "    </tr>\n",
       "    <tr>\n",
       "      <th>4</th>\n",
       "      <td>id_4</td>\n",
       "      <td>4.0</td>\n",
       "    </tr>\n",
       "    <tr>\n",
       "      <th>...</th>\n",
       "      <td>...</td>\n",
       "      <td>...</td>\n",
       "    </tr>\n",
       "    <tr>\n",
       "      <th>9995</th>\n",
       "      <td>id_9995</td>\n",
       "      <td>3.0</td>\n",
       "    </tr>\n",
       "    <tr>\n",
       "      <th>9996</th>\n",
       "      <td>id_9996</td>\n",
       "      <td>1.5</td>\n",
       "    </tr>\n",
       "    <tr>\n",
       "      <th>9997</th>\n",
       "      <td>id_9997</td>\n",
       "      <td>4.5</td>\n",
       "    </tr>\n",
       "    <tr>\n",
       "      <th>9998</th>\n",
       "      <td>id_9998</td>\n",
       "      <td>1.0</td>\n",
       "    </tr>\n",
       "    <tr>\n",
       "      <th>9999</th>\n",
       "      <td>id_9999</td>\n",
       "      <td>2.5</td>\n",
       "    </tr>\n",
       "  </tbody>\n",
       "</table>\n",
       "<p>10000 rows × 2 columns</p>\n",
       "</div>"
      ],
      "text/plain": [
       "     Restaurant_id  Rating\n",
       "0             id_0     2.0\n",
       "1             id_1     2.5\n",
       "2             id_2     4.0\n",
       "3             id_3     1.0\n",
       "4             id_4     4.0\n",
       "...            ...     ...\n",
       "9995       id_9995     3.0\n",
       "9996       id_9996     1.5\n",
       "9997       id_9997     4.5\n",
       "9998       id_9998     1.0\n",
       "9999       id_9999     2.5\n",
       "\n",
       "[10000 rows x 2 columns]"
      ]
     },
     "execution_count": 114,
     "metadata": {},
     "output_type": "execute_result"
    }
   ],
   "source": [
    "sample_submission"
   ]
  },
  {
   "cell_type": "code",
   "execution_count": 116,
   "metadata": {},
   "outputs": [],
   "source": [
    "predict_submission = regr.predict(test_data)\n"
   ]
  },
  {
   "cell_type": "code",
   "execution_count": 117,
   "metadata": {},
   "outputs": [
    {
     "data": {
      "text/plain": [
       "array([3.03 , 4.14 , 4.33 , ..., 3.02 , 4.42 , 4.425])"
      ]
     },
     "execution_count": 117,
     "metadata": {},
     "output_type": "execute_result"
    }
   ],
   "source": [
    "predict_submission"
   ]
  },
  {
   "cell_type": "code",
   "execution_count": 118,
   "metadata": {},
   "outputs": [
    {
     "data": {
      "text/html": [
       "<div>\n",
       "<style scoped>\n",
       "    .dataframe tbody tr th:only-of-type {\n",
       "        vertical-align: middle;\n",
       "    }\n",
       "\n",
       "    .dataframe tbody tr th {\n",
       "        vertical-align: top;\n",
       "    }\n",
       "\n",
       "    .dataframe thead th {\n",
       "        text-align: right;\n",
       "    }\n",
       "</style>\n",
       "<table border=\"1\" class=\"dataframe\">\n",
       "  <thead>\n",
       "    <tr style=\"text-align: right;\">\n",
       "      <th></th>\n",
       "      <th>Restaurant_id</th>\n",
       "      <th>Rating</th>\n",
       "    </tr>\n",
       "  </thead>\n",
       "  <tbody>\n",
       "    <tr>\n",
       "      <th>0</th>\n",
       "      <td>id_0</td>\n",
       "      <td>3.030</td>\n",
       "    </tr>\n",
       "    <tr>\n",
       "      <th>1</th>\n",
       "      <td>id_1</td>\n",
       "      <td>4.140</td>\n",
       "    </tr>\n",
       "    <tr>\n",
       "      <th>2</th>\n",
       "      <td>id_2</td>\n",
       "      <td>4.330</td>\n",
       "    </tr>\n",
       "    <tr>\n",
       "      <th>3</th>\n",
       "      <td>id_3</td>\n",
       "      <td>4.380</td>\n",
       "    </tr>\n",
       "    <tr>\n",
       "      <th>4</th>\n",
       "      <td>id_4</td>\n",
       "      <td>4.390</td>\n",
       "    </tr>\n",
       "    <tr>\n",
       "      <th>5</th>\n",
       "      <td>id_5</td>\n",
       "      <td>4.410</td>\n",
       "    </tr>\n",
       "    <tr>\n",
       "      <th>6</th>\n",
       "      <td>id_6</td>\n",
       "      <td>1.190</td>\n",
       "    </tr>\n",
       "    <tr>\n",
       "      <th>7</th>\n",
       "      <td>id_7</td>\n",
       "      <td>2.485</td>\n",
       "    </tr>\n",
       "    <tr>\n",
       "      <th>8</th>\n",
       "      <td>id_8</td>\n",
       "      <td>4.045</td>\n",
       "    </tr>\n",
       "    <tr>\n",
       "      <th>9</th>\n",
       "      <td>id_9</td>\n",
       "      <td>4.555</td>\n",
       "    </tr>\n",
       "  </tbody>\n",
       "</table>\n",
       "</div>"
      ],
      "text/plain": [
       "  Restaurant_id  Rating\n",
       "0          id_0   3.030\n",
       "1          id_1   4.140\n",
       "2          id_2   4.330\n",
       "3          id_3   4.380\n",
       "4          id_4   4.390\n",
       "5          id_5   4.410\n",
       "6          id_6   1.190\n",
       "7          id_7   2.485\n",
       "8          id_8   4.045\n",
       "9          id_9   4.555"
      ]
     },
     "execution_count": 118,
     "metadata": {},
     "output_type": "execute_result"
    }
   ],
   "source": [
    "sample_submission['Rating'] = predict_submission\n",
    "sample_submission.to_csv('submission.csv', index=False)\n",
    "sample_submission.head(10)"
   ]
  },
  {
   "cell_type": "code",
   "execution_count": null,
   "metadata": {},
   "outputs": [],
   "source": []
  },
  {
   "cell_type": "code",
   "execution_count": null,
   "metadata": {},
   "outputs": [],
   "source": []
  },
  {
   "cell_type": "code",
   "execution_count": null,
   "metadata": {},
   "outputs": [],
   "source": []
  }
 ],
 "metadata": {
  "kernelspec": {
   "display_name": "Python 3",
   "language": "python",
   "name": "python3"
  },
  "language_info": {
   "codemirror_mode": {
    "name": "ipython",
    "version": 3
   },
   "file_extension": ".py",
   "mimetype": "text/x-python",
   "name": "python",
   "nbconvert_exporter": "python",
   "pygments_lexer": "ipython3",
   "version": "3.8.3"
  }
 },
 "nbformat": 4,
 "nbformat_minor": 2
}
